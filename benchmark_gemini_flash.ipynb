{
 "cells": [
  {
   "cell_type": "code",
   "execution_count": 19,
   "metadata": {},
   "outputs": [],
   "source": [
    "from google import genai\n",
    "import pandas as pd\n",
    "import random\n",
    "import time\n",
    "from IPython.display import Markdown\n",
    "import time\n",
    "from tqdm import trange\n",
    "GEMINI_API_KEY=\"***REMOVED***\"\n",
    "client = genai.Client(api_key=GEMINI_API_KEY)\n"
   ]
  },
  {
   "cell_type": "code",
   "execution_count": 20,
   "metadata": {},
   "outputs": [],
   "source": [
    "import os\n",
    "\n",
    "VIDEO_PATH = 'tesla-real-world-video-q-a/videos'\n",
    "\n",
    "for video in os.listdir(VIDEO_PATH):\n",
    "    if video.endswith('.mp4'):\n",
    "        video_file = client.files.upload(file=VIDEO_PATH + video)\n",
    "        print(str(video_file) + ' uploaded')\n"
   ]
  },
  {
   "cell_type": "code",
   "execution_count": 21,
   "metadata": {},
   "outputs": [],
   "source": [
    "# CACHE THIS SO DONT HAVE TO UPLOAD EVERY TIME\n",
    "video_names = ['/files/tw665rf6u2em', '/files/adot8mwqx5x8', '/files/9po1avlsm7f9', '/files/yt9a9psrka9r', '/files/p4qf8z7u09gi', '/files/tpen623uy5qr', '/files/cgwmuqbl16zr', '/files/e7hmaqm5i5ha', '/files/hklyvji2hmp7', '/files/iu1dm44rzjxb', '/files/zge9lpjs7h7q', '/files/zb88tzyjuznz', '/files/kwcwvib4tjpv', '/files/o8yib7ohyfxg', '/files/eopu01d6wp0j', '/files/ccske1io7v24', '/files/uxlhl1t9mpxc', '/files/kt7nxnixyfr9', '/files/7255bog4xq89', '/files/2nds4uxi92kd', '/files/esqldu9alume', '/files/ql30433b1vc6', '/files/9ez43wx70qdv', '/files/af34tanig9gc', '/files/pjd5wi63eb1u', '/files/bfwe4wfkjphm', '/files/ve24fszp6dgz', '/files/div8okijpkbh', '/files/splyrhu1g9xs', '/files/jztnog1jagxr', '/files/wqbstailjg60', '/files/dx7pwgwd110u', '/files/sp14h3tvduzy', '/files/n91m9yu0at27', '/files/wz80be455d0s', '/files/302jdw1o6y92', '/files/gknr0u24x64q', '/files/6qtaafyokqd0', '/files/h42kez3dh6lu', '/files/bo774opih334', '/files/f1gugtoepnxh', '/files/4b3rw572v53r', '/files/eglguei4pszy', '/files/1hiy0v2eki7q', '/files/l64min9tuwem', '/files/3wmvt82rh2nw', '/files/scdj8bb5rzc7', '/files/5tcacvfjio6t', '/files/r7f6i7w0ao7g', '/files/z8xnuwwlj74h']\n"
   ]
  },
  {
   "cell_type": "code",
   "execution_count": 22,
   "metadata": {},
   "outputs": [
    {
     "data": {
      "text/html": [
       "<div>\n",
       "<style scoped>\n",
       "    .dataframe tbody tr th:only-of-type {\n",
       "        vertical-align: middle;\n",
       "    }\n",
       "\n",
       "    .dataframe tbody tr th {\n",
       "        vertical-align: top;\n",
       "    }\n",
       "\n",
       "    .dataframe thead th {\n",
       "        text-align: right;\n",
       "    }\n",
       "</style>\n",
       "<table border=\"1\" class=\"dataframe\">\n",
       "  <thead>\n",
       "    <tr style=\"text-align: right;\">\n",
       "      <th></th>\n",
       "      <th>id</th>\n",
       "      <th>question</th>\n",
       "      <th>answers</th>\n",
       "      <th>freq_map</th>\n",
       "      <th>entropy</th>\n",
       "    </tr>\n",
       "  </thead>\n",
       "  <tbody>\n",
       "    <tr>\n",
       "      <th>0</th>\n",
       "      <td>1</td>\n",
       "      <td>Was ego doing a legal maneuver if its goal is ...</td>\n",
       "      <td>None</td>\n",
       "      <td>None</td>\n",
       "      <td>None</td>\n",
       "    </tr>\n",
       "    <tr>\n",
       "      <th>1</th>\n",
       "      <td>2</td>\n",
       "      <td>Where can ego legally park on this street? A. ...</td>\n",
       "      <td>None</td>\n",
       "      <td>None</td>\n",
       "      <td>None</td>\n",
       "    </tr>\n",
       "    <tr>\n",
       "      <th>2</th>\n",
       "      <td>3</td>\n",
       "      <td>What is the best description of the maneuver e...</td>\n",
       "      <td>None</td>\n",
       "      <td>None</td>\n",
       "      <td>None</td>\n",
       "    </tr>\n",
       "    <tr>\n",
       "      <th>3</th>\n",
       "      <td>4</td>\n",
       "      <td>Why is ego stopped? A. Judah. B. Traffic Light...</td>\n",
       "      <td>None</td>\n",
       "      <td>None</td>\n",
       "      <td>None</td>\n",
       "    </tr>\n",
       "    <tr>\n",
       "      <th>4</th>\n",
       "      <td>5</td>\n",
       "      <td>What is the blinker state of the oncoming car,...</td>\n",
       "      <td>None</td>\n",
       "      <td>None</td>\n",
       "      <td>None</td>\n",
       "    </tr>\n",
       "  </tbody>\n",
       "</table>\n",
       "</div>"
      ],
      "text/plain": [
       "   id                                           question answers freq_map  \\\n",
       "0   1  Was ego doing a legal maneuver if its goal is ...    None     None   \n",
       "1   2  Where can ego legally park on this street? A. ...    None     None   \n",
       "2   3  What is the best description of the maneuver e...    None     None   \n",
       "3   4  Why is ego stopped? A. Judah. B. Traffic Light...    None     None   \n",
       "4   5  What is the blinker state of the oncoming car,...    None     None   \n",
       "\n",
       "  entropy  \n",
       "0    None  \n",
       "1    None  \n",
       "2    None  \n",
       "3    None  \n",
       "4    None  "
      ]
     },
     "execution_count": 22,
     "metadata": {},
     "output_type": "execute_result"
    }
   ],
   "source": [
    "\n",
    "\n",
    "questions = pd.read_csv('tesla-real-world-video-q-a/questions.csv')\n",
    "questions['answers'] = None\n",
    "questions['freq_map'] = None\n",
    "questions['entropy'] = None\n",
    "questions.head()"
   ]
  },
  {
   "cell_type": "code",
   "execution_count": null,
   "metadata": {},
   "outputs": [
    {
     "name": "stdout",
     "output_type": "stream",
     "text": [
      "B\n"
     ]
    }
   ],
   "source": [
    "def extract_answer(response, depth = 5):\n",
    "    if depth == 0:\n",
    "        return \"NOT FOUND\"\n",
    "    \n",
    "    temp = client.models.generate_content(\n",
    "        model='gemini-2.0-flash', contents=f'''You are an answer parser.\n",
    "        Parse the correct letter choice and include the final answer surrounded by <answer></answer> XML tags. \n",
    "        \n",
    "        ****  ONLY INCLUDE A SINGLE LETTER WITHIN <answer></answer> ****\n",
    "        \n",
    "        Prompt:\\n{response}\n",
    "        '''\n",
    "    ).text\n",
    "    \n",
    "    # print(temp)\n",
    "    \n",
    "    try:\n",
    "        cur = temp.split('<answer>')[1].split('</answer>')[0].strip()\n",
    "        assert(len(cur) == 1)\n",
    "        assert(cur in ['A', 'B', 'C', 'D'])\n",
    "        \n",
    "        if depth != 5:\n",
    "            print(\"BAD TEXT\", text)\n",
    "            print(\"PARSED\", cur)\n",
    "            \n",
    "        return cur\n",
    "    \n",
    "    except Exception as e:\n",
    "        time.sleep(1)\n",
    "        print(\"Not found in\", temp)\n",
    "        return extract_answer(response, depth - 1)\n",
    "    \n",
    "    \n",
    "print(extract_answer('''Here's the breakdown:\n",
    "\n",
    "* **Ego's Goal:** Turn right.\n",
    "* **The Lane:** Marked as a right-turn lane by the roundabout sign.\n",
    "\n",
    "The correct answer is (B). The construction barrels clearly block the right-turn lane, making it illegal for ego to use it.  Ego should wait behind the other vehicles.'''))"
   ]
  },
  {
   "cell_type": "code",
   "execution_count": 24,
   "metadata": {},
   "outputs": [
    {
     "name": "stdout",
     "output_type": "stream",
     "text": [
      "('Was ego doing a legal maneuver if its goal is to turn right at the intersection? ', {'A': \" It's legal as the lane is empty. \", 'B': \" It's illegal as the right turn lane is bloacked by construction. \", 'C': \" It's illegal as ego was cutting in other vehicles that were waiting. \"})\n"
     ]
    }
   ],
   "source": [
    "def parse_question(question_str):\n",
    "    Q = question_str.split('A.')[0]\n",
    "    \n",
    "    A_str = question_str.split(Q)[1]\n",
    "    \n",
    "    A_str += '&.'\n",
    "    \n",
    "    mp = {}\n",
    "    \n",
    "    temp = ['A', 'B', 'C', 'D', 'E', 'F', 'G', '&']\n",
    "    \n",
    "    for idx in range(len(temp)-1):\n",
    "        cur_choice = temp[idx]\n",
    "        nxt_choice = temp[idx+1]\n",
    "        \n",
    "        if nxt_choice + '.' not in A_str:\n",
    "            break\n",
    "        \n",
    "        mp[cur_choice] = A_str.split(cur_choice + '.')[1].split(nxt_choice + '.')[0]\n",
    "    \n",
    "    return Q, mp\n",
    "\n",
    "print(parse_question(questions['question'][0]))"
   ]
  },
  {
   "cell_type": "code",
   "execution_count": null,
   "metadata": {},
   "outputs": [
    {
     "name": "stdout",
     "output_type": "stream",
     "text": [
      "Here's the breakdown:\n",
      "\n",
      "Ego is driving in a regular lane and approaches a roundabout. There is a designated right-turn lane that leads to the roundabout. However, the right-turn lane is blocked by what seems to be a construction site. A few vehicles are waiting in front of the right-turn lane. Ego continues driving straight in the lane and cuts in front of the waiting vehicles at the roundabout.\n",
      "\n",
      "So the answer is (C): It's illegal as ego was cutting in other vehicles that were waiting. \n",
      "\n"
     ]
    }
   ],
   "source": [
    "def query_model(video_path, prompt):\n",
    "    # print(\"Sending prompt:\\n\", prompt)\n",
    "    video_file = client.files.get(name=video_path)\n",
    "    result = client.models.generate_content(\n",
    "                model=\"gemini-2.0-flash\",\n",
    "                \n",
    "                contents=[\n",
    "                    video_file,\n",
    "                    prompt\n",
    "                ]\n",
    "            ).text\n",
    "    # print(result)\n",
    "    return result\n",
    "\n",
    "response = query_model(video_names[0][1:], '''Was ego doing a legal maneuver if its goal is to turn right at the intersection? \n",
    "\n",
    "Options:\n",
    "\n",
    "(A) It's legal as the lane is empty. \n",
    "(B) It's illegal as the right turn lane is bloacked by construction. \n",
    "(C) It's illegal as ego was cutting in other vehicles that were waiting. \n",
    "(D) It's legal but the lane ahead is way too narrow for ego to pass.\n",
    "''')\n",
    "print(response)"
   ]
  },
  {
   "cell_type": "code",
   "execution_count": 26,
   "metadata": {},
   "outputs": [
    {
     "name": "stdout",
     "output_type": "stream",
     "text": [
      "Entropy: 1.3709505944546687\n"
     ]
    }
   ],
   "source": [
    "import math\n",
    "\n",
    "def calculate_entropy(freq_map):\n",
    "    total = sum(freq_map.values())\n",
    "    entropy = -sum((count / total) * math.log2(count / total) for count in freq_map.values() if count > 0)\n",
    "    return entropy\n",
    "\n",
    "# Example usage:\n",
    "frequency_map = {'D': 1, 'A': 3, 'C': 1}\n",
    "entropy_value = calculate_entropy(frequency_map)\n",
    "print(\"Entropy:\", entropy_value)"
   ]
  },
  {
   "cell_type": "code",
   "execution_count": 27,
   "metadata": {},
   "outputs": [
    {
     "name": "stdout",
     "output_type": "stream",
     "text": [
      "files/tw665rf6u2em\n",
      "==========\n",
      "Was ego doing a legal maneuver if its goal is to turn right at the intersection? A. It's legal as the lane is empty. B. It's illegal as the right turn lane is bloacked by construction. C. It's illegal as ego was cutting in other vehicles that were waiting. D. It's legal but the lane ahead is way too narrow for ego to pass.\n",
      "==========\n",
      "Parsed Question: Was ego doing a legal maneuver if its goal is to turn right at the intersection? \n",
      "Parsed Choices: {'A': \" It's legal as the lane is empty. \", 'B': \" It's illegal as the right turn lane is bloacked by construction. \", 'C': \" It's illegal as ego was cutting in other vehicles that were waiting. \"}\n",
      "Majority Answer (original index): A\n",
      "Vote Map (original indices): {'A': 3, 'C': 2}\n"
     ]
    }
   ],
   "source": [
    "import random\n",
    "\n",
    "num_shuffles = 5\n",
    "\n",
    "def answer_question(video_path, question, choices):\n",
    "    \"\"\"\n",
    "    Shuffles answer options while keeping a mapping from fixed labels (A, B, C, D)\n",
    "    to the original answer keys. Queries the model multiple times, extracts the answer\n",
    "    with extract_answer(), and uses majority voting over the original options.\n",
    "    \n",
    "    Args:\n",
    "        video_path (str): Path to the video file.\n",
    "        question (str): The question to ask.\n",
    "        choices (dict): Dictionary mapping original letters (e.g., 'A', 'B', 'C', 'D')\n",
    "                        to option text.\n",
    "                        \n",
    "    Returns:\n",
    "        tuple: (majority_vote, vote_counts) where:\n",
    "            - majority_vote: The original option letter with the most votes.\n",
    "            - vote_counts: A dictionary counting votes for each original option.\n",
    "    \"\"\"\n",
    "    votes = {}\n",
    "    fixed_labels = ['A', 'B', 'C', 'D']\n",
    "    \n",
    "    for _ in range(num_shuffles):\n",
    "        # Shuffle the original choices (list of tuples: (original_letter, option_text))\n",
    "        shuffled_choices = list(choices.items())\n",
    "        random.shuffle(shuffled_choices)\n",
    "        \n",
    "        # Build a mapping from fixed label to the original letter\n",
    "        mapping = {}  # new label -> original letter\n",
    "        prompt = question + '\\n\\nOptions:\\n\\n'\n",
    "        for new_label, (orig_letter, option_text) in zip(fixed_labels, shuffled_choices):\n",
    "            mapping[new_label] = orig_letter\n",
    "            prompt += f\"{new_label}. {option_text}\\n\"\n",
    "        \n",
    "        # Query the model and extract its answer using extract_answer()\n",
    "        res = query_model(video_path=video_path, prompt=prompt)\n",
    "        answer_new_label = extract_answer(res)\n",
    "        \n",
    "        # Convert the fixed label answer to the original letter\n",
    "        if answer_new_label in mapping:\n",
    "            orig_answer = mapping[answer_new_label]\n",
    "            votes[orig_answer] = votes.get(orig_answer, 0) + 1\n",
    "        else:\n",
    "            votes[\"Invalid\"] = votes.get(\"Invalid\", 0) + 1\n",
    "    \n",
    "    # Majority voting among valid (original) options\n",
    "    valid_votes = {k: v for k, v in votes.items() if k in choices}\n",
    "    if valid_votes:\n",
    "        majority_vote = max(valid_votes, key=valid_votes.get)\n",
    "    else:\n",
    "        majority_vote = \"Invalid\"\n",
    "    \n",
    "    return majority_vote, votes\n",
    "\n",
    "# Example usage:\n",
    "print(video_names[0][1:])\n",
    "print('=' * 10)\n",
    "print(questions.iloc[0]['question'])\n",
    "print('=' * 10)\n",
    "Q, C = parse_question(questions.iloc[0]['question'])\n",
    "print(\"Parsed Question:\", Q)\n",
    "print(\"Parsed Choices:\", C)\n",
    "\n",
    "majority_answer, vote_map = answer_question(video_path=video_names[0][1:], question=Q, choices=C)\n",
    "print(\"Majority Answer (original index):\", majority_answer)\n",
    "print(\"Vote Map (original indices):\", vote_map)"
   ]
  },
  {
   "cell_type": "code",
   "execution_count": null,
   "metadata": {},
   "outputs": [
    {
     "name": "stderr",
     "output_type": "stream",
     "text": [
      "  0%|          | 0/50 [00:00<?, ?it/s]"
     ]
    },
    {
     "name": "stdout",
     "output_type": "stream",
     "text": [
      "Rate Limit? Sleeping...\n"
     ]
    },
    {
     "name": "stderr",
     "output_type": "stream",
     "text": [
      "  2%|▏         | 1/50 [00:28<23:09, 28.36s/it]"
     ]
    },
    {
     "name": "stdout",
     "output_type": "stream",
     "text": [
      "Not found in  Parking next to the right curb would be legal here.\n",
      "A\n",
      "\n",
      "Rate Limit? Sleeping...\n"
     ]
    },
    {
     "name": "stderr",
     "output_type": "stream",
     "text": [
      "  4%|▍         | 2/50 [00:54<21:36, 27.01s/it]"
     ]
    }
   ],
   "source": [
    "for question_number in trange(0, 50):\n",
    "    if questions.iloc[question_number]['answers'] is not None:\n",
    "        continue\n",
    "    \n",
    "    raw_video_path = video_names[question_number][1:]\n",
    "    raw_question = questions.iloc[question_number]['question']\n",
    "        \n",
    "    Q, C = parse_question(raw_question)\n",
    "        \n",
    "    answered = False\n",
    "    \n",
    "    while not answered:\n",
    "        try: \n",
    "            model_ans, freq_mp = answer_question(video_path=raw_video_path, question=Q, choices=C)\n",
    "            \n",
    "            questions.at[question_number, 'reasoning'] = model_ans\n",
    "            questions.at[question_number, 'entropy'] = calculate_entropy(freq_mp)\n",
    "            questions.at[question_number, 'freq_map'] = freq_mp\n",
    "            \n",
    "            answered = True\n",
    "            \n",
    "        except Exception as e:\n",
    "            print(f\"Error on question {question_number}: {e}\")\n",
    "        \n",
    "        print(\"Rate Limit? Sleeping...\")\n",
    "        time.sleep(10)\n",
    "        \n",
    "    time.sleep(0.5)\n",
    "    \n",
    "    "
   ]
  },
  {
   "cell_type": "markdown",
   "metadata": {},
   "source": [
    "# Parse Questions"
   ]
  },
  {
   "cell_type": "code",
   "execution_count": null,
   "metadata": {},
   "outputs": [
    {
     "name": "stderr",
     "output_type": "stream",
     "text": [
      "  0%|          | 0/50 [00:00<?, ?it/s]"
     ]
    },
    {
     "name": "stdout",
     "output_type": "stream",
     "text": [
      "The answer is (C).\n",
      "\n",
      "The right lane was for right turn only and not for through traffic. The vehicles ahead of the ego car were waiting to turn right when the ego car cut in the queue from the left lane and used the right turn lane as a through lane.\n"
     ]
    },
    {
     "name": "stderr",
     "output_type": "stream",
     "text": [
      "  2%|▏         | 1/50 [00:00<00:18,  2.64it/s]"
     ]
    },
    {
     "name": "stdout",
     "output_type": "stream",
     "text": [
      "<answer>C</answer>\n",
      "The correct answer is (B) next to right curb.\n",
      "\n",
      "The ego vehicle is approaching an intersection where the traffic lights are red. On the right side of the road, there are no signs prohibiting parking. There is also a paved area next to the curb, suitable for parking.\n",
      "\n",
      "The left side of the road has no paved curb and a painted bicycle lane. Parking in a bicycle lane is illegal.\n"
     ]
    },
    {
     "name": "stderr",
     "output_type": "stream",
     "text": [
      "  4%|▍         | 2/50 [00:00<00:19,  2.49it/s]"
     ]
    },
    {
     "name": "stdout",
     "output_type": "stream",
     "text": [
      "The answer is (B) next to right curb.\n",
      "<answer>B</answer>\n",
      "The best description is (C): Staying in a lane which curves to the left and then to the right.\n",
      "\n",
      "The camera view moves left and then right, but the camera doesn't switch lanes and neither do other vehicles on the road. Instead, the road is slightly curved and the camera follows the path of the street.\n"
     ]
    },
    {
     "name": "stderr",
     "output_type": "stream",
     "text": [
      "  6%|▌         | 3/50 [00:01<00:18,  2.49it/s]"
     ]
    },
    {
     "name": "stdout",
     "output_type": "stream",
     "text": [
      " The best description is <answer>C</answer>.\n",
      "The correct option is (A). The ego vehicle is stopped because Judah told him to stop.\n"
     ]
    },
    {
     "name": "stderr",
     "output_type": "stream",
     "text": [
      "  8%|▊         | 4/50 [00:01<00:18,  2.49it/s]"
     ]
    },
    {
     "name": "stdout",
     "output_type": "stream",
     "text": [
      "<answer>A</answer>\n",
      "\n",
      "Here's how to determine the answer:\n",
      "\n",
      "1. **Identify the oncoming car:** The primary vehicle visible in the video is moving directly away from the camera. \n",
      "2. **Observe the blinker:** The left blinker, from the perspective of the oncoming car, is flashing.\n",
      "\n",
      "Thus, the answer is (A).\n"
     ]
    },
    {
     "name": "stderr",
     "output_type": "stream",
     "text": [
      " 10%|█         | 5/50 [00:02<00:18,  2.39it/s]"
     ]
    },
    {
     "name": "stdout",
     "output_type": "stream",
     "text": [
      "The answer is (A).\n",
      "<answer>A</answer>\n",
      "Here's the breakdown:\n",
      "\n",
      "The ego vehicle changes lanes to the left because the current lane is an exit-only lane as indicated by the \"RIGHT LANE ONLY\" sign.  Therefore, the correct answer is (B). \n",
      "\n"
     ]
    },
    {
     "name": "stderr",
     "output_type": "stream",
     "text": [
      " 12%|█▏        | 6/50 [00:02<00:18,  2.43it/s]"
     ]
    },
    {
     "name": "stdout",
     "output_type": "stream",
     "text": [
      "<answer>B</answer>\n",
      "\n",
      "The correct answer is (A).\n",
      "\n",
      "Here's why:\n",
      "\n",
      "* **No pedestrians:** There are no pedestrians present in the crosswalk or approaching it.\n",
      "* **No obstacles:** The road ahead is clear of any obstacles.\n",
      "* **Green light:**  While the light initially turns yellow, it wasn't red, and there's no indication of needing to stop.\n",
      "\n",
      "Therefore, in a nominal driving scenario, the ego vehicle should continue straight.\n"
     ]
    },
    {
     "name": "stderr",
     "output_type": "stream",
     "text": [
      " 14%|█▍        | 7/50 [00:02<00:17,  2.47it/s]"
     ]
    },
    {
     "name": "stdout",
     "output_type": "stream",
     "text": [
      "<answer>A</answer>\n",
      "\n",
      "Here's how to figure out the number of flashing traffic light bulbs:\n",
      "\n",
      "1. **Identify flashing lights:** Look for lights that repeatedly turn on and off. \n",
      "2. **Count the flashing lights:** The video shows two sets of traffic lights, each with a red light flashing.\n",
      "\n",
      "Therefore, the correct answer is (B) 2.\n"
     ]
    },
    {
     "name": "stderr",
     "output_type": "stream",
     "text": [
      " 16%|█▌        | 8/50 [00:03<00:17,  2.42it/s]"
     ]
    },
    {
     "name": "stdout",
     "output_type": "stream",
     "text": [
      "The correct answer is (B) 2.\n",
      "<answer>B</answer>\n",
      "Here's how to estimate the distance:\n",
      "\n",
      "1. **Reference:** The average car length is about 4.5 meters. The red car looks about two car-lengths away from the camera vehicle (ego vehicle).\n",
      "\n",
      "2. **Calculation:** Two car lengths is roughly 4.5m x 2 = 9 meters. This suggests the camera is relatively close to the red car.\n",
      "\n",
      "3. **Options:** Considering the options provided, 20 meters (A) seems the most plausible answer. The other options are too far.\n",
      "\n",
      "So the answer is (A).\n"
     ]
    },
    {
     "name": "stderr",
     "output_type": "stream",
     "text": [
      " 18%|█▊        | 9/50 [00:03<00:17,  2.40it/s]"
     ]
    },
    {
     "name": "stdout",
     "output_type": "stream",
     "text": [
      "The answer is (A).\n",
      "<answer>A</answer>\n",
      "The answer is (C). Here's why:\n",
      "\n",
      "The clip shows a Tesla driving through a parking lot at night. At first, there appear to be fewer traffic lights, but as the camera pans right with the ego vehicle, more come into view. There are a total of 6 traffic lights with stop signs in the parking lot that could control the ego's movements.\n"
     ]
    },
    {
     "name": "stderr",
     "output_type": "stream",
     "text": [
      " 20%|██        | 10/50 [00:04<00:16,  2.41it/s]"
     ]
    },
    {
     "name": "stdout",
     "output_type": "stream",
     "text": [
      "<answer>C</answer>\n",
      "\n",
      "The correct answer is (C).\n",
      "\n",
      "Here's why: \n",
      "\n",
      "* The traffic light for the car with the camera is red. You can tell because the brake lights of the car are on and the car isn't moving forward.\n",
      "* Since there is no evidence that the light is blinking on or off, the light is solid red.\n"
     ]
    },
    {
     "name": "stderr",
     "output_type": "stream",
     "text": [
      " 22%|██▏       | 11/50 [00:04<00:16,  2.41it/s]"
     ]
    },
    {
     "name": "stdout",
     "output_type": "stream",
     "text": [
      "The correct answer is (C).\n",
      "<answer>C</answer>\n",
      "The correct answer is (C) go straight and turn right.\n",
      "\n",
      "Here's why:\n",
      "\n",
      "* **No left turn restriction:** There's no visible sign prohibiting a left turn. However, given the position of the camera (likely mounted on a vehicle) stopped at a stop sign, it's safe to assume turning left would likely be unsafe.  \n",
      "* **Right turn allowed:** The lane extends around the corner, indicating a right turn is possible.\n",
      "* **Straight ahead allowed:** There is no marking or sign preventing a vehicle from going straight through the intersection.\n",
      "\n",
      "Therefore, the right-most lane allows both going straight and turning right.\n"
     ]
    },
    {
     "name": "stderr",
     "output_type": "stream",
     "text": [
      " 24%|██▍       | 12/50 [00:04<00:15,  2.40it/s]"
     ]
    },
    {
     "name": "stdout",
     "output_type": "stream",
     "text": [
      "<answer>C</answer>\n",
      "\n",
      "The correct answer is (C).\n",
      "\n",
      "Here is why:\n",
      "\n",
      "The pedestrian is on the crosswalk that goes across the intersecting road on the right side of the ego vehicle's lane.\n"
     ]
    },
    {
     "name": "stderr",
     "output_type": "stream",
     "text": [
      " 26%|██▌       | 13/50 [00:05<00:15,  2.45it/s]"
     ]
    },
    {
     "name": "stdout",
     "output_type": "stream",
     "text": [
      "<answer>C</answer>\n",
      "\n",
      "The correct answer is (C).\n",
      "\n",
      "The truck's blinkers are flashing hazard lights, indicating a potential hazard or slowdown due to the road construction ahead. This alerts other drivers to proceed with caution.\n"
     ]
    },
    {
     "name": "stderr",
     "output_type": "stream",
     "text": [
      " 28%|██▊       | 14/50 [00:05<00:14,  2.52it/s]"
     ]
    },
    {
     "name": "stdout",
     "output_type": "stream",
     "text": [
      "<answer>C</answer>\n",
      "\n",
      "The correct answer is (D). Here's why:\n",
      "\n",
      "* **Emergency Vehicle in Distance:**  There's an emergency vehicle (likely a fire truck) with its lights on in the distance, but it's far enough away that pulling over isn't immediately necessary. \n",
      "* **Stop Sign:**  The ego vehicle is approaching a stop sign. The law requires coming to a complete stop at stop signs before proceeding.\n",
      "* **Safe to Proceed:** Since the emergency vehicle is still down the road, it's safe for the ego vehicle to stop at the stop sign, check for cross traffic, and proceed if clear.\n",
      "\n",
      "Options (A) and (C) are incorrect because the ego vehicle needs to stop at the stop sign first. Option (B) would be correct if the emergency vehicle were closer and presented an immediate need to yield.\n",
      "\n"
     ]
    },
    {
     "name": "stderr",
     "output_type": "stream",
     "text": [
      " 30%|███       | 15/50 [00:06<00:14,  2.37it/s]"
     ]
    },
    {
     "name": "stdout",
     "output_type": "stream",
     "text": [
      "The correct answer is (D).\n",
      " The final answer is: <answer>D</answer>\n",
      "\n",
      "The most appropriate maneuver from the ego vehicle's position would be (D) Go straight. The ego vehicle is clearly in the rightmost lane of a multi-lane road and traffic is flowing in a forward direction. Turning left or right would be unsafe and reversing is impossible from this position.\n"
     ]
    },
    {
     "name": "stderr",
     "output_type": "stream",
     "text": [
      " 32%|███▏      | 16/50 [00:06<00:14,  2.32it/s]"
     ]
    },
    {
     "name": "stdout",
     "output_type": "stream",
     "text": [
      "The most appropriate maneuver from the ego vehicle's position would be (D) Go straight.\n",
      "<answer>D</answer>\n",
      "The correct answer is (C).\n",
      "\n",
      "The surface appears dark and slightly reflective, especially visible in the first few seconds of the video before the camera moves forward. This characteristic of oil makes it a hazard on the road.\n"
     ]
    },
    {
     "name": "stderr",
     "output_type": "stream",
     "text": [
      " 34%|███▍      | 17/50 [00:06<00:13,  2.52it/s]"
     ]
    },
    {
     "name": "stdout",
     "output_type": "stream",
     "text": [
      "<answer>C</answer>\n",
      "The correct answer is (A).\n",
      "\n",
      "The car approaches a bend in the road where visibility is limited, so it slows down in case another vehicle is coming around the bend from the opposite direction.\n"
     ]
    },
    {
     "name": "stderr",
     "output_type": "stream",
     "text": [
      " 36%|███▌      | 18/50 [00:07<00:12,  2.58it/s]"
     ]
    },
    {
     "name": "stdout",
     "output_type": "stream",
     "text": [
      "<answer>A</answer>\n",
      "\n",
      "The correct answer is (C):\n",
      "\n",
      "From [00:00–00:02], we can see that there are only four lanes on the road. The second rightmost lane will take the driver away from the current road onto a side road.  Therefore, the best lane for going to Half Moon Bay, which is not visible on the current road, would be the second rightmost lane.\n"
     ]
    },
    {
     "name": "stderr",
     "output_type": "stream",
     "text": [
      " 38%|███▊      | 19/50 [00:07<00:11,  2.72it/s]"
     ]
    },
    {
     "name": "stdout",
     "output_type": "stream",
     "text": [
      "<answer>C</answer>\n",
      "The correct answer is (C).\n",
      "\n",
      "The ego vehicle is driving on a two-lane road. There is a parked silver car on the right side of the road. This car is parked along a narrow paved shoulder, but there is no parking lot. As the ego vehicle approaches an intersection, the shoulder disappears and it becomes unsafe to pull over. There's no fire station visible.\n"
     ]
    },
    {
     "name": "stderr",
     "output_type": "stream",
     "text": [
      " 40%|████      | 20/50 [00:08<00:11,  2.72it/s]"
     ]
    },
    {
     "name": "stdout",
     "output_type": "stream",
     "text": [
      "<answer>C</answer>\n",
      "\n",
      "The correct answer is (B). Here's why:\n",
      "* Right-turn-only lanes usually have a right-turn arrow. \n",
      "* Carpool lanes are marked with diamonds and only available to cars with multiple passengers.\n",
      "* Bus lanes are marked with bus signage and are only available to public transportation.\n",
      "* The cyclist that turns right at [00:00:03] indicates that the lane is a bike lane.\n"
     ]
    },
    {
     "name": "stderr",
     "output_type": "stream",
     "text": [
      " 42%|████▏     | 21/50 [00:08<00:10,  2.72it/s]"
     ]
    },
    {
     "name": "stdout",
     "output_type": "stream",
     "text": [
      "<answer>B</answer>\n",
      "\n",
      "Here's the solution:\n",
      "\n",
      "The sign says \"No Parking Anytime\". This means no parking is allowed at any time of the day. Therefore, the correct answer is (D).\n"
     ]
    },
    {
     "name": "stderr",
     "output_type": "stream",
     "text": [
      " 44%|████▍     | 22/50 [00:08<00:10,  2.70it/s]"
     ]
    },
    {
     "name": "stdout",
     "output_type": "stream",
     "text": [
      "<answer>D</answer>\n",
      "\n",
      "The answer is (A) Green left arrow.\n",
      "\n",
      "Here's why: At [00:00:02], you can briefly see a green arrow illuminated within the traffic light fixture.  Due to the vehicle's motion and angle, it's difficult to see exactly which direction it's pointing, but it's most likely a left-turn arrow, given that the vehicle is approaching an intersection and staying in its lane, not changing lanes or turning right. Also, there is a white arrow on the road pointing to the left.\n"
     ]
    },
    {
     "name": "stderr",
     "output_type": "stream",
     "text": [
      " 46%|████▌     | 23/50 [00:09<00:10,  2.64it/s]"
     ]
    },
    {
     "name": "stdout",
     "output_type": "stream",
     "text": [
      "The answer is (A) Green left arrow.\n",
      "<answer>A</answer>\n",
      "The correct answer is (C).\n",
      "\n",
      "The car is approaching an intersection with a yellow traffic signal, indicating that the driver should slow down and prepare to stop.  The red and green lights belong to other lanes or directions, not the lane the car is traveling in. Therefore, the most immediately relevant traffic light for the ego vehicle is the yellow one.\n"
     ]
    },
    {
     "name": "stderr",
     "output_type": "stream",
     "text": [
      " 48%|████▊     | 24/50 [00:09<00:09,  2.67it/s]"
     ]
    },
    {
     "name": "stdout",
     "output_type": "stream",
     "text": [
      "<answer>C</answer>\n",
      "The answer is (C).\n",
      "\n",
      "Here's the breakdown:\n",
      "\n",
      "1. **0:02:** A bicyclist passes by on the left side.\n",
      "2. **0:03:**  A second bicyclist appears further down the road, also on the left side.\n",
      "3. **0:03:** A car approaches from the opposite direction (not counted, as it's not on the same side).\n",
      "4. **0:03:** A third bicyclist is seen near the second bicyclist on the left.\n",
      "\n",
      "So there are 3 bicyclists on the left. Additionally, we see two other cars moving in the same direction as the ego vehicle:\n",
      "\n",
      "5. **0:00:** In the first frame, another car is briefly seen in the distance, driving ahead of the ego vehicle on the right side. It disappears quickly due to darkness.\n",
      "6. **0:04:** A car becomes visible in front of the ego vehicle on the right side.\n",
      "\n"
     ]
    },
    {
     "name": "stderr",
     "output_type": "stream",
     "text": [
      " 50%|█████     | 25/50 [00:10<00:12,  2.05it/s]"
     ]
    },
    {
     "name": "stdout",
     "output_type": "stream",
     "text": [
      "The question is \"How many bicycles are on the left and how many cars are moving in the same direction\". The answer to the question is 3 bicycles and 2 cars. Therefore, the answer is (C).\n",
      "        <answer>C</answer>\n",
      "The correct answer is (A) straight.\n",
      "\n",
      "There is no exit or lane division permitting a right turn, and no space to move into the left lane. The ego vehicle must continue straight.\n"
     ]
    },
    {
     "name": "stderr",
     "output_type": "stream",
     "text": [
      " 52%|█████▏    | 26/50 [00:10<00:11,  2.18it/s]"
     ]
    },
    {
     "name": "stdout",
     "output_type": "stream",
     "text": [
      "<answer>A</answer>\n",
      "\n",
      "The upcoming exit number is not shown in the video. None of the options are correct.\n",
      "<answer>None of the above</answer>\n",
      "Not found in <answer>None of the above</answer>\n",
      "<answer>None of the above</answer>\n",
      "Not found in <answer>None of the above</answer>\n",
      "<answer>None of the above</answer>\n",
      "Not found in <answer>None of the above</answer>\n",
      "<answer>D) None of the above</answer>\n",
      "Not found in <answer>D) None of the above</answer>\n",
      "<answer>d</answer>\n"
     ]
    },
    {
     "name": "stderr",
     "output_type": "stream",
     "text": [
      " 54%|█████▍    | 27/50 [00:17<00:55,  2.42s/it]"
     ]
    },
    {
     "name": "stdout",
     "output_type": "stream",
     "text": [
      "Not found in <answer>d</answer>\n",
      "The correct answer is (A).\n",
      "\n",
      "A white pickup truck is seen driving in the lane to the left of the ego vehicle throughout the clip.\n"
     ]
    },
    {
     "name": "stderr",
     "output_type": "stream",
     "text": [
      " 56%|█████▌    | 28/50 [00:18<00:39,  1.81s/it]"
     ]
    },
    {
     "name": "stdout",
     "output_type": "stream",
     "text": [
      "<answer>A</answer>\n",
      "\n",
      "The correct answer is (B).\n",
      "\n",
      "The ego vehicle comes to a stop because if it were to continue through the intersection, it would be blocking the path of oncoming traffic. \n",
      "\n",
      "The video does not show any pedestrians, a stop sign, or a crossing vehicle.\n"
     ]
    },
    {
     "name": "stderr",
     "output_type": "stream",
     "text": [
      " 58%|█████▊    | 29/50 [00:18<00:29,  1.39s/it]"
     ]
    },
    {
     "name": "stdout",
     "output_type": "stream",
     "text": [
      "The correct answer is (B).\n",
      "<answer>B</answer>\n",
      "The vehicle in front of ego is most likely to go straight.\n",
      "\n",
      "The vehicle is in the center lane, which appears to be a lane for going straight. The traffic signal is green, and there is no indication that the vehicle will turn left or right. Reversing is also unlikely given the traffic conditions. Thus, the answer is (B).\n"
     ]
    },
    {
     "name": "stderr",
     "output_type": "stream",
     "text": [
      " 60%|██████    | 30/50 [00:18<00:22,  1.11s/it]"
     ]
    },
    {
     "name": "stdout",
     "output_type": "stream",
     "text": [
      "The answer is (B).\n",
      "<answer>B</answer>\n",
      "The correct answer is (C).\n",
      "\n",
      "At [00:00:03], there is a \"no right on red\" sign visible in the frame. Thus, ego may not turn right.\n"
     ]
    },
    {
     "name": "stderr",
     "output_type": "stream",
     "text": [
      " 62%|██████▏   | 31/50 [00:19<00:17,  1.12it/s]"
     ]
    },
    {
     "name": "stdout",
     "output_type": "stream",
     "text": [
      "The correct answer is (C).\n",
      "<answer>C</answer>\n",
      "At [00:00:03], a sign reads \"Weight Limit 3 Tons.\" So, the correct answer is (B).\n"
     ]
    },
    {
     "name": "stderr",
     "output_type": "stream",
     "text": [
      " 64%|██████▍   | 32/50 [00:19<00:13,  1.34it/s]"
     ]
    },
    {
     "name": "stdout",
     "output_type": "stream",
     "text": [
      "The correct answer is (B).\n",
      "<answer>B</answer>\n",
      "The correct answer is (D).\n",
      "\n",
      "Ego is driving on a two-lane road on the correct side, and there's no indication that they're speeding or hitting anything.  Everything seems normal with their driving.\n"
     ]
    },
    {
     "name": "stderr",
     "output_type": "stream",
     "text": [
      " 66%|██████▌   | 33/50 [00:20<00:10,  1.59it/s]"
     ]
    },
    {
     "name": "stdout",
     "output_type": "stream",
     "text": [
      "<answer>D</answer>\n",
      "Here's the breakdown:\n",
      "\n",
      "1. **Ego Lane:** The lane the camera vehicle occupies.\n",
      "2. **Lane to the Right of Ego:** One lane to the right, available for travel in the same direction as ego.\n",
      "3. **Opposing Lane 1:**  A lane for traffic coming towards ego.\n",
      "4. **Opposing Lane 2:** Another lane for traffic coming towards ego, alongside Opposing Lane 1.\n",
      "5. **Left Turn Lane:** A lane visible to the left of the opposing lanes, designated for left turns only for traffic coming towards ego.\n",
      "\n",
      "Therefore, the answer is (B) 4.\n"
     ]
    },
    {
     "name": "stderr",
     "output_type": "stream",
     "text": [
      " 68%|██████▊   | 34/50 [00:20<00:09,  1.76it/s]"
     ]
    },
    {
     "name": "stdout",
     "output_type": "stream",
     "text": [
      "The answer is B.\n",
      "<answer>B</answer>\n",
      "The correct answer is (C).\n",
      "\n",
      "The lane is marked \"ONLY BUS\" and painted red. These are common indications of a bus-only lane.\n"
     ]
    },
    {
     "name": "stderr",
     "output_type": "stream",
     "text": [
      " 70%|███████   | 35/50 [00:20<00:07,  1.93it/s]"
     ]
    },
    {
     "name": "stdout",
     "output_type": "stream",
     "text": [
      " The correct answer is (C).\n",
      " <answer>C</answer>\n",
      "Here's the breakdown:\n",
      "\n",
      "1. **Budget Truck:** This is parked and does not move during the video.\n",
      "2. **Black Car:** Enters from the left between 0:02 and 0:03. Stays within the frame.\n",
      "3. **Small, Light-Colored Car:** Enters briefly from the right between 0:03 and 0:04. Stays within the frame.\n",
      "\n",
      "Therefore, two vehicles enter the frame and do not exit. The correct answer is (C).\n"
     ]
    },
    {
     "name": "stderr",
     "output_type": "stream",
     "text": [
      " 72%|███████▏  | 36/50 [00:21<00:06,  2.04it/s]"
     ]
    },
    {
     "name": "stdout",
     "output_type": "stream",
     "text": [
      "The correct answer is (C).\n",
      "<answer>C</answer>\n",
      "The correct answer is (C). The POV vehicle (ego) is driving in the left lane where there is less traffic. It's perfectly appropriate for the ego to be in this lane, there are no signs saying the lane is closed, oncoming, or for particular vehicles only. However, there is more traffic than is ideal.\n"
     ]
    },
    {
     "name": "stderr",
     "output_type": "stream",
     "text": [
      " 74%|███████▍  | 37/50 [00:21<00:05,  2.27it/s]"
     ]
    },
    {
     "name": "stdout",
     "output_type": "stream",
     "text": [
      "<answer>C</answer>\n",
      "Here's the breakdown:\n",
      "\n",
      "1. At [00:00:02], a person is seen walking towards the right side of the frame, in front of the shops.\n",
      "\n",
      "Therefore, the answer is (B) 1.\n"
     ]
    },
    {
     "name": "stderr",
     "output_type": "stream",
     "text": [
      " 76%|███████▌  | 38/50 [00:22<00:05,  2.23it/s]"
     ]
    },
    {
     "name": "stdout",
     "output_type": "stream",
     "text": [
      "The answer is (B) 1.\n",
      "<answer>B</answer>\n",
      "The correct answer is (C).\n",
      "\n",
      "A gray SUV in front of ego slows down and comes to a near-stop to yield to cross-traffic from the road visible on the right. The cross-traffic has a stop sign, whereas the car traveling on the road with the camera does not.\n"
     ]
    },
    {
     "name": "stderr",
     "output_type": "stream",
     "text": [
      " 78%|███████▊  | 39/50 [00:22<00:04,  2.37it/s]"
     ]
    },
    {
     "name": "stdout",
     "output_type": "stream",
     "text": [
      "<answer>C</answer>\n",
      "The correct answer is (B). \n",
      "\n",
      "The white car has reached a stop sign. Cars must come to a complete stop at a stop sign before proceeding.\n"
     ]
    },
    {
     "name": "stderr",
     "output_type": "stream",
     "text": [
      " 80%|████████  | 40/50 [00:22<00:04,  2.38it/s]"
     ]
    },
    {
     "name": "stdout",
     "output_type": "stream",
     "text": [
      " The answer is (B).\n",
      " \n",
      " <answer>B</answer>\n",
      "Here's how to determine ego's options:\n",
      "\n",
      "Ego is the camera's perspective. Notice the yellow sign near the building with the A-frame roof. It says \"One Way\" with a right-pointing arrow. There is also a \"Do Not Enter\" sign facing in the opposite direction. These two signs indicate that cars can only proceed straight or make a right turn.\n",
      "\n",
      "So, the correct answer is (B).\n"
     ]
    },
    {
     "name": "stderr",
     "output_type": "stream",
     "text": [
      " 82%|████████▏ | 41/50 [00:23<00:03,  2.44it/s]"
     ]
    },
    {
     "name": "stdout",
     "output_type": "stream",
     "text": [
      "The correct answer is (B).\n",
      "<answer>B</answer>\n",
      "The answer is (B).\n",
      "\n",
      "The ego vehicle is traveling straight, so the relevant traffic light is the green circle. The blinking left arrow indicates that cars may turn left if the intersection is clear, and the blinking right arrow indicates that cars may turn right if the intersection is clear. The red circle indicates that cars traveling straight should not proceed.\n"
     ]
    },
    {
     "name": "stderr",
     "output_type": "stream",
     "text": [
      " 84%|████████▍ | 42/50 [00:23<00:03,  2.40it/s]"
     ]
    },
    {
     "name": "stdout",
     "output_type": "stream",
     "text": [
      "The answer is (B).\n",
      "<answer>B</answer>\n",
      "The road sign shows the image of an airplane, which means there is an airport nearby. The answer is (A).\n"
     ]
    },
    {
     "name": "stderr",
     "output_type": "stream",
     "text": [
      " 86%|████████▌ | 43/50 [00:24<00:02,  2.38it/s]"
     ]
    },
    {
     "name": "stdout",
     "output_type": "stream",
     "text": [
      "The answer is (A).\n",
      "<answer>A</answer>\n",
      "\n",
      "The correct option is (A).\n",
      "\n",
      "The ego vehicle is facing a red light at the intersection. Therefore, it is stopped and waiting for the right of way. The light will have to turn green before the vehicle can proceed.\n"
     ]
    },
    {
     "name": "stderr",
     "output_type": "stream",
     "text": [
      " 88%|████████▊ | 44/50 [00:24<00:02,  2.46it/s]"
     ]
    },
    {
     "name": "stdout",
     "output_type": "stream",
     "text": [
      "The correct option is (A).\n",
      "<answer>A</answer>\n",
      "The correct answer is (C).\n",
      "\n",
      "At [00:00:02], traffic barrels can be seen blocking off the right-most lane.\n"
     ]
    },
    {
     "name": "stderr",
     "output_type": "stream",
     "text": [
      " 90%|█████████ | 45/50 [00:24<00:02,  2.48it/s]"
     ]
    },
    {
     "name": "stdout",
     "output_type": "stream",
     "text": [
      "<answer>C</answer>\n",
      "\n",
      "Here's how to estimate the speed:\n",
      "\n",
      "1. **Observe the movement:** The truck appears to be moving relatively slowly past the parked cars. It's slower than typical city driving speeds.\n",
      "2. **Consider the context:** The truck is on a residential street with parked cars, which would naturally cause it to slow down.\n",
      "3. **Compare to options:** 35 mph and 24 mph are too fast for a truck navigating a residential street like this. 17 mph is plausible, but still a bit fast given the circumstances. 5 mph aligns best with the slow, cautious movement of the truck.\n",
      "\n",
      "Therefore, the best estimate of the truck's average speed is (A) 5 miles per hour.\n"
     ]
    },
    {
     "name": "stderr",
     "output_type": "stream",
     "text": [
      " 92%|█████████▏| 46/50 [00:25<00:01,  2.31it/s]"
     ]
    },
    {
     "name": "stdout",
     "output_type": "stream",
     "text": [
      "The best estimate of the truck's average speed is (A) 5 miles per hour.\n",
      "<answer>A</answer>\n",
      "The correct answer is (C) red light. \n",
      "\n",
      "Here's why:\n",
      "\n",
      "At the beginning of the video, the traffic light is red. The ego vehicle slows down and stops at the intersection. Shortly after, the light turns green, and the ego vehicle continues. \n",
      "\n"
     ]
    },
    {
     "name": "stderr",
     "output_type": "stream",
     "text": [
      " 94%|█████████▍| 47/50 [00:25<00:01,  2.45it/s]"
     ]
    },
    {
     "name": "stdout",
     "output_type": "stream",
     "text": [
      "<answer>C</answer>\n",
      "\n",
      "The correct answer is (D). \n",
      "\n",
      "The light ahead of the ego vehicle is still red, meaning it must remain stopped at the intersection until it turns green. (A), (B), and (C) are unsafe, illegal maneuvers in this scenario.\n",
      " The correct answer is (D).\n",
      "\n",
      "Not found in  The correct answer is (D).\n",
      "\n"
     ]
    },
    {
     "name": "stderr",
     "output_type": "stream",
     "text": [
      " 96%|█████████▌| 48/50 [00:27<00:01,  1.27it/s]"
     ]
    },
    {
     "name": "stdout",
     "output_type": "stream",
     "text": [
      "<answer>D</answer>\n",
      "\n",
      "This video does not show a roundabout. This makes both options (A) and (B) incorrect.\n"
     ]
    },
    {
     "name": "stderr",
     "output_type": "stream",
     "text": [
      " 98%|█████████▊| 49/50 [00:28<00:00,  1.31it/s]"
     ]
    },
    {
     "name": "stdout",
     "output_type": "stream",
     "text": [
      "(C) is not relevant to the video's content. Therefore, the correct answer is (D) None of the above.\n",
      "        \n",
      "        <answer>D</answer>\n",
      "The answer is (A). The light turns green at [00:00:03], and the ego vehicle legally proceeds through the intersection. There is no construction immediately ahead and there are no signs or indicators saying yield to pedestrians.\n"
     ]
    },
    {
     "name": "stderr",
     "output_type": "stream",
     "text": [
      "100%|██████████| 50/50 [00:28<00:00,  1.76it/s]"
     ]
    },
    {
     "name": "stdout",
     "output_type": "stream",
     "text": [
      "<answer>A</answer>\n",
      "['C', 'B', 'C', 'A', 'A', 'B', 'A', 'B', 'A', 'C', 'C', 'C', 'C', 'C', 'D', 'D', 'C', 'A', 'C', 'C', 'B', 'D', 'A', 'C', 'C', 'A', 'NOT FOUND', 'A', 'B', 'B', 'C', 'B', 'D', 'B', 'C', 'C', 'C', 'B', 'C', 'B', 'B', 'B', 'A', 'A', 'C', 'A', 'C', 'D', 'D', 'A']\n"
     ]
    },
    {
     "name": "stderr",
     "output_type": "stream",
     "text": [
      "\n"
     ]
    }
   ],
   "source": [
    "letter_answers = []\n",
    "\n",
    "for idx in trange(len(questions['reasoning'])):\n",
    "    cur = questions['reasoning'][idx]\n",
    "    print(cur)\n",
    "    letter_answers.append(extract_answer(cur))\n",
    "\n",
    "print(letter_answers)"
   ]
  },
  {
   "cell_type": "code",
   "execution_count": null,
   "metadata": {},
   "outputs": [],
   "source": [
    "dataframe_A, dataframe_B = [], []\n",
    "\n",
    "idx = 1\n",
    "while idx <= 251:\n",
    "    dataframe_A.append(idx)\n",
    "    if idx-1 < len(letter_answers):\n",
    "        dataframe_B.append(letter_answers[idx-1])\n",
    "    else:\n",
    "        dataframe_B.append('A')\n",
    "    idx += 1"
   ]
  },
  {
   "cell_type": "code",
   "execution_count": null,
   "metadata": {},
   "outputs": [],
   "source": [
    "answers = pd.DataFrame({'id': dataframe_A, 'answer': dataframe_B})\n"
   ]
  },
  {
   "cell_type": "code",
   "execution_count": null,
   "metadata": {},
   "outputs": [
    {
     "data": {
      "text/html": [
       "<div>\n",
       "<style scoped>\n",
       "    .dataframe tbody tr th:only-of-type {\n",
       "        vertical-align: middle;\n",
       "    }\n",
       "\n",
       "    .dataframe tbody tr th {\n",
       "        vertical-align: top;\n",
       "    }\n",
       "\n",
       "    .dataframe thead th {\n",
       "        text-align: right;\n",
       "    }\n",
       "</style>\n",
       "<table border=\"1\" class=\"dataframe\">\n",
       "  <thead>\n",
       "    <tr style=\"text-align: right;\">\n",
       "      <th></th>\n",
       "      <th>id</th>\n",
       "      <th>answer</th>\n",
       "    </tr>\n",
       "  </thead>\n",
       "  <tbody>\n",
       "    <tr>\n",
       "      <th>0</th>\n",
       "      <td>1</td>\n",
       "      <td>C</td>\n",
       "    </tr>\n",
       "    <tr>\n",
       "      <th>1</th>\n",
       "      <td>2</td>\n",
       "      <td>B</td>\n",
       "    </tr>\n",
       "    <tr>\n",
       "      <th>2</th>\n",
       "      <td>3</td>\n",
       "      <td>C</td>\n",
       "    </tr>\n",
       "    <tr>\n",
       "      <th>3</th>\n",
       "      <td>4</td>\n",
       "      <td>A</td>\n",
       "    </tr>\n",
       "    <tr>\n",
       "      <th>4</th>\n",
       "      <td>5</td>\n",
       "      <td>A</td>\n",
       "    </tr>\n",
       "  </tbody>\n",
       "</table>\n",
       "</div>"
      ],
      "text/plain": [
       "   id answer\n",
       "0   1      C\n",
       "1   2      B\n",
       "2   3      C\n",
       "3   4      A\n",
       "4   5      A"
      ]
     },
     "execution_count": 29,
     "metadata": {},
     "output_type": "execute_result"
    }
   ],
   "source": [
    "answers.to_csv('baseline_answers.csv', index=False)\n",
    "answers.head()"
   ]
  },
  {
   "cell_type": "code",
   "execution_count": null,
   "metadata": {},
   "outputs": [],
   "source": []
  }
 ],
 "metadata": {
  "kernelspec": {
   "display_name": "Python 3",
   "language": "python",
   "name": "python3"
  },
  "language_info": {
   "codemirror_mode": {
    "name": "ipython",
    "version": 3
   },
   "file_extension": ".py",
   "mimetype": "text/x-python",
   "name": "python",
   "nbconvert_exporter": "python",
   "pygments_lexer": "ipython3",
   "version": "3.11.10"
  }
 },
 "nbformat": 4,
 "nbformat_minor": 2
}
