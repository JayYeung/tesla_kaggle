{
 "cells": [
  {
   "cell_type": "code",
   "execution_count": null,
   "metadata": {},
   "outputs": [],
   "source": [
    "from google import genai\n",
    "import pandas as pd\n",
    "import random\n",
    "import time\n",
    "from IPython.display import Markdown\n",
    "import time\n",
    "from tqdm import trange\n",
    "import cv2  \n",
    "import base64\n",
    "from openai import OpenAI\n",
    "\n",
    "SLEEP_TIME = 0.5\n",
    "\n",
    "GEMINI_API_KEY=\"***REMOVED***\"\n",
    "client_google = genai.Client(api_key=GEMINI_API_KEY)\n",
    "client = OpenAI(api_key='***REMOVED***')"
   ]
  },
  {
   "cell_type": "code",
   "execution_count": 9,
   "metadata": {},
   "outputs": [
    {
     "name": "stdout",
     "output_type": "stream",
     "text": [
      "tesla-real-world-video-q-a/videos/videos/00050.mp4\n"
     ]
    }
   ],
   "source": [
    "\n",
    "video_names = []\n",
    "# \n",
    "for i in range(1, 51):\n",
    "    video_names.append(f\"tesla-real-world-video-q-a/videos/videos/{i:05d}.mp4\")\n",
    "    \n",
    "print(video_names[-1])"
   ]
  },
  {
   "cell_type": "code",
   "execution_count": 10,
   "metadata": {},
   "outputs": [
    {
     "data": {
      "text/html": [
       "<div>\n",
       "<style scoped>\n",
       "    .dataframe tbody tr th:only-of-type {\n",
       "        vertical-align: middle;\n",
       "    }\n",
       "\n",
       "    .dataframe tbody tr th {\n",
       "        vertical-align: top;\n",
       "    }\n",
       "\n",
       "    .dataframe thead th {\n",
       "        text-align: right;\n",
       "    }\n",
       "</style>\n",
       "<table border=\"1\" class=\"dataframe\">\n",
       "  <thead>\n",
       "    <tr style=\"text-align: right;\">\n",
       "      <th></th>\n",
       "      <th>id</th>\n",
       "      <th>question</th>\n",
       "      <th>answers</th>\n",
       "      <th>freq_map</th>\n",
       "      <th>entropy</th>\n",
       "    </tr>\n",
       "  </thead>\n",
       "  <tbody>\n",
       "    <tr>\n",
       "      <th>0</th>\n",
       "      <td>1</td>\n",
       "      <td>Was ego doing a legal maneuver if its goal is ...</td>\n",
       "      <td>None</td>\n",
       "      <td>None</td>\n",
       "      <td>None</td>\n",
       "    </tr>\n",
       "    <tr>\n",
       "      <th>1</th>\n",
       "      <td>2</td>\n",
       "      <td>Where can ego legally park on this street? A. ...</td>\n",
       "      <td>None</td>\n",
       "      <td>None</td>\n",
       "      <td>None</td>\n",
       "    </tr>\n",
       "    <tr>\n",
       "      <th>2</th>\n",
       "      <td>3</td>\n",
       "      <td>What is the best description of the maneuver e...</td>\n",
       "      <td>None</td>\n",
       "      <td>None</td>\n",
       "      <td>None</td>\n",
       "    </tr>\n",
       "    <tr>\n",
       "      <th>3</th>\n",
       "      <td>4</td>\n",
       "      <td>Why is ego stopped? A. Judah. B. Traffic Light...</td>\n",
       "      <td>None</td>\n",
       "      <td>None</td>\n",
       "      <td>None</td>\n",
       "    </tr>\n",
       "    <tr>\n",
       "      <th>4</th>\n",
       "      <td>5</td>\n",
       "      <td>What is the blinker state of the oncoming car,...</td>\n",
       "      <td>None</td>\n",
       "      <td>None</td>\n",
       "      <td>None</td>\n",
       "    </tr>\n",
       "  </tbody>\n",
       "</table>\n",
       "</div>"
      ],
      "text/plain": [
       "   id                                           question answers freq_map  \\\n",
       "0   1  Was ego doing a legal maneuver if its goal is ...    None     None   \n",
       "1   2  Where can ego legally park on this street? A. ...    None     None   \n",
       "2   3  What is the best description of the maneuver e...    None     None   \n",
       "3   4  Why is ego stopped? A. Judah. B. Traffic Light...    None     None   \n",
       "4   5  What is the blinker state of the oncoming car,...    None     None   \n",
       "\n",
       "  entropy  \n",
       "0    None  \n",
       "1    None  \n",
       "2    None  \n",
       "3    None  \n",
       "4    None  "
      ]
     },
     "execution_count": 10,
     "metadata": {},
     "output_type": "execute_result"
    }
   ],
   "source": [
    "questions = pd.read_csv('tesla-real-world-video-q-a/questions.csv')\n",
    "questions['answers'] = None\n",
    "questions['freq_map'] = None\n",
    "questions['entropy'] = None\n",
    "questions.head()"
   ]
  },
  {
   "cell_type": "code",
   "execution_count": null,
   "metadata": {},
   "outputs": [
    {
     "name": "stdout",
     "output_type": "stream",
     "text": [
      "B\n"
     ]
    }
   ],
   "source": [
    "def extract_answer(text, depth = 5):\n",
    "    if depth == 0:\n",
    "        return \"NOT FOUND\"\n",
    "    \n",
    "    temp = client_google.models.generate_content(\n",
    "        model='gemini-2.0-flash', contents=f'''Parse the correct letter choice from the text and include the final answer surrounded by <answer></answer> XML tags. \n",
    "        \n",
    "        ****  ONLY INCLUDE A SINGLE LETTER WITHIN THE ANSWER TAGS ****\n",
    "        \n",
    "        Text to Parse:\\n{text}\n",
    "        '''\n",
    "    ).text\n",
    "    \n",
    "    # print(temp)\n",
    "    \n",
    "    try:\n",
    "        cur = temp.split('<answer>')[1].split('</answer>')[0].strip()\n",
    "        assert(len(cur) == 1)\n",
    "        assert(cur in ['A', 'B', 'C', 'D'])\n",
    "        \n",
    "        if depth != 5:\n",
    "            print(\"BAD TEXT\", text)\n",
    "            print(\"PARSED\", cur)\n",
    "        \n",
    "        return cur\n",
    "    \n",
    "    except Exception as e:\n",
    "        time.sleep(SLEEP_TIME)\n",
    "        print(\"Not found in\", temp)\n",
    "        return extract_answer(text, depth - 1)\n",
    "    \n",
    "    \n",
    "print(extract_answer('''Here's the breakdown:\n",
    "\n",
    "* **Ego's Goal:** Turn right.\n",
    "* **The Lane:** Marked as a right-turn lane by the roundabout sign.\n",
    "\n",
    "The correct answer is (B). The construction barrels clearly block the right-turn lane, making it illegal for ego to use it.  Ego should wait behind the other vehicles.'''))"
   ]
  },
  {
   "cell_type": "code",
   "execution_count": 13,
   "metadata": {},
   "outputs": [
    {
     "name": "stdout",
     "output_type": "stream",
     "text": [
      "('Was ego doing a legal maneuver if its goal is to turn right at the intersection? ', {'A': \" It's legal as the lane is empty. \", 'B': \" It's illegal as the right turn lane is bloacked by construction. \", 'C': \" It's illegal as ego was cutting in other vehicles that were waiting. \", 'D': \" It's legal but the lane ahead is way too narrow for ego to pass.\"})\n"
     ]
    }
   ],
   "source": [
    "def parse_question(question_str):\n",
    "    Q = question_str.split('A.')[0]\n",
    "    \n",
    "    A_str = question_str.split(Q)[1]\n",
    "    \n",
    "    A_str += '&.'\n",
    "    \n",
    "    mp = {}\n",
    "    \n",
    "    temp = ['A', 'B', 'C', 'D', '&']\n",
    "    \n",
    "    for idx in range(len(temp)-1):\n",
    "        cur_choice = temp[idx]\n",
    "        nxt_choice = temp[idx+1]\n",
    "        \n",
    "        if nxt_choice + '.' not in A_str:\n",
    "            break\n",
    "        \n",
    "        mp[cur_choice] = A_str.split(cur_choice + '.')[1].split(nxt_choice + '.')[0]\n",
    "    \n",
    "    return Q, mp\n",
    "\n",
    "print(parse_question(questions['question'][0]))"
   ]
  },
  {
   "cell_type": "code",
   "execution_count": 16,
   "metadata": {},
   "outputs": [
    {
     "name": "stdout",
     "output_type": "stream",
     "text": [
      "(B) It's illegal as the right turn lane is blocked by construction.\n"
     ]
    }
   ],
   "source": [
    "def query_model(video_path, prompt):\n",
    "    video = cv2.VideoCapture(video_path)\n",
    "    \n",
    "    base64Frames = []\n",
    "    while video.isOpened():\n",
    "        success, frame = video.read()\n",
    "        if not success:\n",
    "            break\n",
    "        _, buffer = cv2.imencode(\".jpg\", frame)\n",
    "        base64Frames.append(base64.b64encode(buffer).decode(\"utf-8\"))\n",
    "\n",
    "    PROMPT_MESSAGES = [\n",
    "        {\n",
    "            \"role\": \"user\",\n",
    "            \"content\": [\n",
    "                prompt,\n",
    "                *map(lambda x: {\"image\": x, \"resize\": 768}, base64Frames[0::50]),\n",
    "            ],\n",
    "            'detail': 'high',\n",
    "        },\n",
    "    ]\n",
    "    params = {\n",
    "        \"model\": \"gpt-4o\",\n",
    "        \"messages\": PROMPT_MESSAGES,\n",
    "    }\n",
    "\n",
    "    result = client.chat.completions.create(**params)\n",
    "    return result.choices[0].message.content\n",
    "\n",
    "response = query_model(video_names[0], '''Is it a legal maneuver to turn right at the intersection here?? \n",
    "\n",
    "Options:\n",
    "\n",
    "(A) It's legal as the lane is empty. \n",
    "(B) It's illegal as the right turn lane is bloacked by construction. \n",
    "(C) It's illegal as ego was cutting in other vehicles that were waiting. \n",
    "(D) It's legal but the lane ahead is way too narrow for ego to pass.\n",
    "''')\n",
    "print(response)"
   ]
  },
  {
   "cell_type": "code",
   "execution_count": 17,
   "metadata": {},
   "outputs": [
    {
     "name": "stdout",
     "output_type": "stream",
     "text": [
      "Entropy: 1.3709505944546687\n"
     ]
    }
   ],
   "source": [
    "import math\n",
    "\n",
    "def calculate_entropy(freq_map):\n",
    "    total = sum(freq_map.values())\n",
    "    entropy = -sum((count / total) * math.log2(count / total) for count in freq_map.values() if count > 0)\n",
    "    return entropy\n",
    "\n",
    "# Example usage:\n",
    "frequency_map = {'D': 1, 'A': 3, 'C': 1}\n",
    "entropy_value = calculate_entropy(frequency_map)\n",
    "print(\"Entropy:\", entropy_value)"
   ]
  },
  {
   "cell_type": "code",
   "execution_count": null,
   "metadata": {},
   "outputs": [
    {
     "name": "stdout",
     "output_type": "stream",
     "text": [
      "esla-real-world-video-q-a/videos/videos/00001.mp4\n",
      "==========\n",
      "Was ego doing a legal maneuver if its goal is to turn right at the intersection? A. It's legal as the lane is empty. B. It's illegal as the right turn lane is bloacked by construction. C. It's illegal as ego was cutting in other vehicles that were waiting. D. It's legal but the lane ahead is way too narrow for ego to pass.\n",
      "==========\n",
      "Parsed Question: Was ego doing a legal maneuver if its goal is to turn right at the intersection? \n",
      "Parsed Choices: {'A': \" It's legal as the lane is empty. \", 'B': \" It's illegal as the right turn lane is bloacked by construction. \", 'C': \" It's illegal as ego was cutting in other vehicles that were waiting. \", 'D': \" It's legal but the lane ahead is way too narrow for ego to pass.\"}\n",
      "Majority Answer (original index): B\n",
      "Vote Map (original indices): {'B': 1}\n"
     ]
    }
   ],
   "source": [
    "import random\n",
    "\n",
    "num_shuffles = 1\n",
    "\n",
    "def answer_question(video_path, question, choices):\n",
    "    \"\"\"\n",
    "    Shuffles answer options while keeping a mapping from fixed labels (A, B, C, D)\n",
    "    to the original answer keys. Queries the model multiple times, extracts the answer\n",
    "    with extract_answer(), and uses majority voting over the original options.\n",
    "    \n",
    "    Args:\n",
    "        video_path (str): Path to the video file.\n",
    "        question (str): The question to ask.\n",
    "        choices (dict): Dictionary mapping original letters (e.g., 'A', 'B', 'C', 'D')\n",
    "                        to option text.\n",
    "                        \n",
    "    Returns:\n",
    "        tuple: (majority_vote, vote_counts) where:\n",
    "            - majority_vote: The original option letter with the most votes.\n",
    "            - vote_counts: A dictionary counting votes for each original option.\n",
    "    \"\"\"\n",
    "    votes = {}\n",
    "    fixed_labels = ['A', 'B', 'C', 'D']\n",
    "    \n",
    "    for _ in range(num_shuffles):\n",
    "        # Shuffle the original choices (list of tuples: (original_letter, option_text))\n",
    "        shuffled_choices = list(choices.items())\n",
    "        random.shuffle(shuffled_choices)\n",
    "        \n",
    "        # Build a mapping from fixed label to the original letter\n",
    "        mapping = {}  # new label -> original letter\n",
    "        prompt = question + '\\n\\nOptions:\\n\\n'\n",
    "        for new_label, (orig_letter, option_text) in zip(fixed_labels, shuffled_choices):\n",
    "            mapping[new_label] = orig_letter\n",
    "            prompt += f\"{new_label}. {option_text}\\n\"\n",
    "        \n",
    "        # Query the model and extract its answer using extract_answer()\n",
    "        res = query_model(video_path=video_path, prompt=prompt)\n",
    "        answer_new_label = extract_answer(res)\n",
    "        \n",
    "        # Convert the fixed label answer to the original letter\n",
    "        if answer_new_label in mapping:\n",
    "            orig_answer = mapping[answer_new_label]\n",
    "            votes[orig_answer] = votes.get(orig_answer, 0) + 1\n",
    "        else:\n",
    "            votes[\"Invalid\"] = votes.get(\"Invalid\", 0) + 1\n",
    "            \n",
    "        time.sleep(SLEEP_TIME)\n",
    "    \n",
    "    # Majority voting among valid (original) options\n",
    "    valid_votes = {k: v for k, v in votes.items() if k in choices}\n",
    "    if valid_votes:\n",
    "        majority_vote = max(valid_votes, key=valid_votes.get)\n",
    "    else:\n",
    "        majority_vote = \"Invalid\"\n",
    "    \n",
    "    return majority_vote, votes\n",
    "\n",
    "# Example usage:\n",
    "print(video_names[0][1:])\n",
    "print('=' * 10)\n",
    "print(questions.iloc[0]['question'])\n",
    "print('=' * 10)\n",
    "Q, C = parse_question(questions.iloc[0]['question'])\n",
    "print(\"Parsed Question:\", Q)\n",
    "print(\"Parsed Choices:\", C)\n",
    "\n",
    "majority_answer, vote_map = answer_question(video_path=video_names[0], question=Q, choices=C)\n",
    "print(\"Majority Answer (original index):\", majority_answer)\n",
    "print(\"Vote Map (original indices):\", vote_map)"
   ]
  },
  {
   "cell_type": "code",
   "execution_count": null,
   "metadata": {},
   "outputs": [
    {
     "name": "stderr",
     "output_type": "stream",
     "text": [
      "  0%|          | 0/50 [00:00<?, ?it/s]"
     ]
    },
    {
     "name": "stdout",
     "output_type": "stream",
     "text": [
      "Rate Limit? Sleeping...\n"
     ]
    },
    {
     "name": "stderr",
     "output_type": "stream",
     "text": [
      "  2%|▏         | 1/50 [00:21<17:32, 21.48s/it]"
     ]
    },
    {
     "name": "stdout",
     "output_type": "stream",
     "text": [
      "Rate Limit? Sleeping...\n"
     ]
    },
    {
     "name": "stderr",
     "output_type": "stream",
     "text": [
      "  4%|▍         | 2/50 [00:41<16:41, 20.87s/it]"
     ]
    },
    {
     "name": "stdout",
     "output_type": "stream",
     "text": [
      "Rate Limit? Sleeping...\n"
     ]
    },
    {
     "name": "stderr",
     "output_type": "stream",
     "text": [
      "  6%|▌         | 3/50 [01:02<16:15, 20.76s/it]"
     ]
    },
    {
     "name": "stdout",
     "output_type": "stream",
     "text": [
      "Rate Limit? Sleeping...\n"
     ]
    },
    {
     "name": "stderr",
     "output_type": "stream",
     "text": [
      "  8%|▊         | 4/50 [01:23<15:53, 20.74s/it]"
     ]
    },
    {
     "name": "stdout",
     "output_type": "stream",
     "text": [
      "Not found in LEFT is not a valid multiple-choice answer. I need the letter choice. Since no letter choice is provided, I cannot give a valid answer.\n",
      "\n",
      "Not found in left\n",
      "\n",
      "Rate Limit? Sleeping...\n"
     ]
    },
    {
     "name": "stderr",
     "output_type": "stream",
     "text": [
      " 10%|█         | 5/50 [01:47<16:32, 22.06s/it]"
     ]
    },
    {
     "name": "stdout",
     "output_type": "stream",
     "text": [
      "Rate Limit? Sleeping...\n"
     ]
    },
    {
     "name": "stderr",
     "output_type": "stream",
     "text": [
      " 12%|█▏        | 6/50 [02:08<15:48, 21.56s/it]"
     ]
    },
    {
     "name": "stdout",
     "output_type": "stream",
     "text": [
      "Rate Limit? Sleeping...\n"
     ]
    },
    {
     "name": "stderr",
     "output_type": "stream",
     "text": [
      " 14%|█▍        | 7/50 [02:29<15:21, 21.43s/it]"
     ]
    },
    {
     "name": "stdout",
     "output_type": "stream",
     "text": [
      "Rate Limit? Sleeping...\n"
     ]
    },
    {
     "name": "stderr",
     "output_type": "stream",
     "text": [
      " 16%|█▌        | 8/50 [02:52<15:20, 21.91s/it]"
     ]
    },
    {
     "name": "stdout",
     "output_type": "stream",
     "text": [
      "Rate Limit? Sleeping...\n"
     ]
    },
    {
     "name": "stderr",
     "output_type": "stream",
     "text": [
      " 18%|█▊        | 9/50 [03:14<14:59, 21.95s/it]"
     ]
    },
    {
     "name": "stdout",
     "output_type": "stream",
     "text": [
      "Rate Limit? Sleeping...\n"
     ]
    },
    {
     "name": "stderr",
     "output_type": "stream",
     "text": [
      " 20%|██        | 10/50 [03:37<14:47, 22.18s/it]"
     ]
    },
    {
     "name": "stdout",
     "output_type": "stream",
     "text": [
      "Rate Limit? Sleeping...\n"
     ]
    },
    {
     "name": "stderr",
     "output_type": "stream",
     "text": [
      " 22%|██▏       | 11/50 [03:58<14:18, 22.01s/it]"
     ]
    },
    {
     "name": "stdout",
     "output_type": "stream",
     "text": [
      "Rate Limit? Sleeping...\n"
     ]
    },
    {
     "name": "stderr",
     "output_type": "stream",
     "text": [
      " 24%|██▍       | 12/50 [04:20<13:52, 21.92s/it]"
     ]
    },
    {
     "name": "stdout",
     "output_type": "stream",
     "text": [
      "Rate Limit? Sleeping...\n"
     ]
    },
    {
     "name": "stderr",
     "output_type": "stream",
     "text": [
      " 26%|██▌       | 13/50 [04:42<13:34, 22.01s/it]"
     ]
    },
    {
     "name": "stdout",
     "output_type": "stream",
     "text": [
      "Rate Limit? Sleeping...\n"
     ]
    },
    {
     "name": "stderr",
     "output_type": "stream",
     "text": [
      " 28%|██▊       | 14/50 [05:04<13:12, 22.02s/it]"
     ]
    },
    {
     "name": "stdout",
     "output_type": "stream",
     "text": [
      "Rate Limit? Sleeping...\n"
     ]
    },
    {
     "name": "stderr",
     "output_type": "stream",
     "text": [
      " 30%|███       | 15/50 [05:26<12:45, 21.87s/it]"
     ]
    },
    {
     "name": "stdout",
     "output_type": "stream",
     "text": [
      "Rate Limit? Sleeping...\n"
     ]
    },
    {
     "name": "stderr",
     "output_type": "stream",
     "text": [
      " 32%|███▏      | 16/50 [05:48<12:30, 22.07s/it]"
     ]
    },
    {
     "name": "stdout",
     "output_type": "stream",
     "text": [
      "Rate Limit? Sleeping...\n"
     ]
    },
    {
     "name": "stderr",
     "output_type": "stream",
     "text": [
      " 34%|███▍      | 17/50 [06:10<12:01, 21.86s/it]"
     ]
    },
    {
     "name": "stdout",
     "output_type": "stream",
     "text": [
      "Rate Limit? Sleeping...\n"
     ]
    },
    {
     "name": "stderr",
     "output_type": "stream",
     "text": [
      " 36%|███▌      | 18/50 [06:32<11:41, 21.94s/it]"
     ]
    },
    {
     "name": "stdout",
     "output_type": "stream",
     "text": [
      "Rate Limit? Sleeping...\n"
     ]
    },
    {
     "name": "stderr",
     "output_type": "stream",
     "text": [
      " 38%|███▊      | 19/50 [06:53<11:09, 21.60s/it]"
     ]
    },
    {
     "name": "stdout",
     "output_type": "stream",
     "text": [
      "Not found in A\n",
      "\n",
      "Not found in A\n",
      "\n",
      "Not found in A\n",
      "\n",
      "Not found in A\n",
      "\n",
      "Not found in A\n",
      "\n",
      "Rate Limit? Sleeping...\n"
     ]
    },
    {
     "name": "stderr",
     "output_type": "stream",
     "text": [
      " 40%|████      | 20/50 [07:20<11:41, 23.40s/it]"
     ]
    },
    {
     "name": "stdout",
     "output_type": "stream",
     "text": [
      "Rate Limit? Sleeping...\n"
     ]
    },
    {
     "name": "stderr",
     "output_type": "stream",
     "text": [
      " 42%|████▏     | 21/50 [07:41<11:00, 22.78s/it]"
     ]
    },
    {
     "name": "stdout",
     "output_type": "stream",
     "text": [
      "Not found in I cannot provide a letter choice as there was no question asked, only a statement. Therefore, I cannot parse an answer.\n",
      "\n",
      "Rate Limit? Sleeping...\n"
     ]
    },
    {
     "name": "stderr",
     "output_type": "stream",
     "text": [
      " 44%|████▍     | 22/50 [08:06<10:53, 23.35s/it]"
     ]
    },
    {
     "name": "stdout",
     "output_type": "stream",
     "text": [
      "Not found in Due to the inability to determine a correct answer, I am unable to provide a letter choice.\n",
      "\n",
      "Rate Limit? Sleeping...\n"
     ]
    },
    {
     "name": "stderr",
     "output_type": "stream",
     "text": [
      " 46%|████▌     | 23/50 [08:28<10:20, 22.97s/it]"
     ]
    },
    {
     "name": "stdout",
     "output_type": "stream",
     "text": [
      "Not found in a) yes\n",
      "b) no\n",
      "\n",
      "<answer>a</answer>\n",
      "Not found in a) Yes\n",
      "        b) No\n",
      "        \n",
      "        <answer>a</answer>\n",
      "Not found in a) True\n",
      "        b) False\n",
      "        \n",
      "        <answer>a</answer>\n",
      "Rate Limit? Sleeping...\n"
     ]
    },
    {
     "name": "stderr",
     "output_type": "stream",
     "text": [
      " 48%|████▊     | 24/50 [08:54<10:22, 23.94s/it]"
     ]
    },
    {
     "name": "stdout",
     "output_type": "stream",
     "text": [
      "Rate Limit? Sleeping...\n"
     ]
    },
    {
     "name": "stderr",
     "output_type": "stream",
     "text": [
      " 50%|█████     | 25/50 [09:16<09:38, 23.14s/it]"
     ]
    },
    {
     "name": "stdout",
     "output_type": "stream",
     "text": [
      "Rate Limit? Sleeping...\n"
     ]
    },
    {
     "name": "stderr",
     "output_type": "stream",
     "text": [
      " 52%|█████▏    | 26/50 [09:38<09:10, 22.95s/it]"
     ]
    },
    {
     "name": "stdout",
     "output_type": "stream",
     "text": [
      "Rate Limit? Sleeping...\n"
     ]
    },
    {
     "name": "stderr",
     "output_type": "stream",
     "text": [
      " 54%|█████▍    | 27/50 [09:59<08:34, 22.37s/it]"
     ]
    },
    {
     "name": "stdout",
     "output_type": "stream",
     "text": [
      "Rate Limit? Sleeping...\n"
     ]
    },
    {
     "name": "stderr",
     "output_type": "stream",
     "text": [
      " 56%|█████▌    | 28/50 [10:20<08:02, 21.95s/it]"
     ]
    },
    {
     "name": "stdout",
     "output_type": "stream",
     "text": [
      "Rate Limit? Sleeping...\n"
     ]
    },
    {
     "name": "stderr",
     "output_type": "stream",
     "text": [
      " 58%|█████▊    | 29/50 [10:41<07:36, 21.74s/it]"
     ]
    },
    {
     "name": "stdout",
     "output_type": "stream",
     "text": [
      "Not found in Based on the images, the most likely course of action for the vehicle in front of ego is:\n",
      "\n",
      "D. Go straight.\n",
      "\n",
      "There are no visible indications or signals suggesting a turn, and the vehicle is positioned in the lane typically used for continuing straight.\n",
      "\n",
      "Rate Limit? Sleeping...\n"
     ]
    },
    {
     "name": "stderr",
     "output_type": "stream",
     "text": [
      " 60%|██████    | 30/50 [11:06<07:29, 22.48s/it]"
     ]
    },
    {
     "name": "stdout",
     "output_type": "stream",
     "text": [
      "Rate Limit? Sleeping...\n"
     ]
    },
    {
     "name": "stderr",
     "output_type": "stream",
     "text": [
      " 62%|██████▏   | 31/50 [11:27<07:01, 22.18s/it]"
     ]
    },
    {
     "name": "stdout",
     "output_type": "stream",
     "text": [
      "Rate Limit? Sleeping...\n"
     ]
    },
    {
     "name": "stderr",
     "output_type": "stream",
     "text": [
      " 64%|██████▍   | 32/50 [11:49<06:37, 22.06s/it]"
     ]
    },
    {
     "name": "stdout",
     "output_type": "stream",
     "text": [
      "Rate Limit? Sleeping...\n"
     ]
    },
    {
     "name": "stderr",
     "output_type": "stream",
     "text": [
      " 66%|██████▌   | 33/50 [12:10<06:09, 21.76s/it]"
     ]
    },
    {
     "name": "stdout",
     "output_type": "stream",
     "text": [
      "Rate Limit? Sleeping...\n"
     ]
    },
    {
     "name": "stderr",
     "output_type": "stream",
     "text": [
      " 68%|██████▊   | 34/50 [12:32<05:50, 21.90s/it]"
     ]
    },
    {
     "name": "stdout",
     "output_type": "stream",
     "text": [
      "Not found in  The answer cannot be derived from the context.\n",
      "        \n",
      "         \n",
      "\n",
      "Not found in  Given the information, there is no question to answer or multiple choices provided. Therefore, I cannot select a correct letter choice.\n",
      "        \n",
      "         If you provide the question with the multiple choices I can select the correct one.\n",
      "        \n",
      "Not found in  The answer to this question cannot be determined from the context provided.\n",
      "        \n",
      "        \n",
      "\n",
      "Rate Limit? Sleeping...\n"
     ]
    },
    {
     "name": "stderr",
     "output_type": "stream",
     "text": [
      " 70%|███████   | 35/50 [13:12<06:48, 27.21s/it]"
     ]
    },
    {
     "name": "stdout",
     "output_type": "stream",
     "text": [
      "Rate Limit? Sleeping...\n"
     ]
    },
    {
     "name": "stderr",
     "output_type": "stream",
     "text": [
      " 72%|███████▏  | 36/50 [13:33<05:55, 25.36s/it]"
     ]
    },
    {
     "name": "stdout",
     "output_type": "stream",
     "text": [
      "Rate Limit? Sleeping...\n"
     ]
    },
    {
     "name": "stderr",
     "output_type": "stream",
     "text": [
      " 74%|███████▍  | 37/50 [13:56<05:20, 24.62s/it]"
     ]
    },
    {
     "name": "stdout",
     "output_type": "stream",
     "text": [
      "Rate Limit? Sleeping...\n"
     ]
    },
    {
     "name": "stderr",
     "output_type": "stream",
     "text": [
      " 76%|███████▌  | 38/50 [14:17<04:44, 23.69s/it]"
     ]
    },
    {
     "name": "stdout",
     "output_type": "stream",
     "text": [
      "Rate Limit? Sleeping...\n"
     ]
    },
    {
     "name": "stderr",
     "output_type": "stream",
     "text": [
      " 78%|███████▊  | 39/50 [14:40<04:16, 23.36s/it]"
     ]
    },
    {
     "name": "stdout",
     "output_type": "stream",
     "text": [
      "Rate Limit? Sleeping...\n"
     ]
    },
    {
     "name": "stderr",
     "output_type": "stream",
     "text": [
      " 80%|████████  | 40/50 [15:02<03:50, 23.03s/it]"
     ]
    },
    {
     "name": "stdout",
     "output_type": "stream",
     "text": [
      "Rate Limit? Sleeping...\n"
     ]
    },
    {
     "name": "stderr",
     "output_type": "stream",
     "text": [
      " 82%|████████▏ | 41/50 [15:27<03:31, 23.48s/it]"
     ]
    },
    {
     "name": "stdout",
     "output_type": "stream",
     "text": [
      "Rate Limit? Sleeping...\n"
     ]
    },
    {
     "name": "stderr",
     "output_type": "stream",
     "text": [
      " 84%|████████▍ | 42/50 [15:47<02:59, 22.42s/it]"
     ]
    },
    {
     "name": "stdout",
     "output_type": "stream",
     "text": [
      "Not found in  Airport is not a letter choice. The answer should be one of the options from A-E. There are no options listed. I am unable to provide an answer.\n",
      "\n",
      "Rate Limit? Sleeping...\n"
     ]
    },
    {
     "name": "stderr",
     "output_type": "stream",
     "text": [
      " 86%|████████▌ | 43/50 [16:11<02:40, 22.98s/it]"
     ]
    },
    {
     "name": "stdout",
     "output_type": "stream",
     "text": [
      "Not found in Given the information, it's impossible to determine the correct answer.\n",
      "        \n",
      "        <answer>I</answer>\n",
      "Not found in I cannot provide an answer without any options to choose from.\n",
      "\n",
      "Not found in I cannot provide a valid answer as no options were provided in the prompt.\n",
      "        \n",
      "        \n",
      "Not found in Given the lack of information, I cannot choose a correct answer.\n",
      "        \n",
      "        \n",
      "\n",
      "Not found in I cannot provide an answer without the multiple choice options.\n",
      "\n",
      "Rate Limit? Sleeping...\n"
     ]
    },
    {
     "name": "stderr",
     "output_type": "stream",
     "text": [
      " 88%|████████▊ | 44/50 [16:42<02:32, 25.34s/it]"
     ]
    },
    {
     "name": "stdout",
     "output_type": "stream",
     "text": [
      "Not found in A\n",
      "\n",
      "Rate Limit? Sleeping...\n"
     ]
    },
    {
     "name": "stderr",
     "output_type": "stream",
     "text": [
      " 90%|█████████ | 45/50 [17:04<02:02, 24.43s/it]"
     ]
    },
    {
     "name": "stdout",
     "output_type": "stream",
     "text": [
      "Not found in I cannot provide an answer because the prompt does not contain a multiple-choice question with answer options.\n",
      "\n",
      "Not found in I cannot provide an answer because there are no lettered choices in the prompt.\n",
      "\n",
      "Not found in I am unable to provide an answer as there are no multiple choice options provided in the prompt.\n",
      "\n",
      "Not found in I am unable to provide an answer because the prompt does not contain a question with answer choices.\n",
      "\n",
      "Not found in I cannot provide an answer because no answer choices were given in the prompt.\n",
      "\n",
      "Rate Limit? Sleeping...\n"
     ]
    },
    {
     "name": "stderr",
     "output_type": "stream",
     "text": [
      " 92%|█████████▏| 46/50 [17:34<01:44, 26.13s/it]"
     ]
    },
    {
     "name": "stdout",
     "output_type": "stream",
     "text": [
      "Rate Limit? Sleeping...\n"
     ]
    },
    {
     "name": "stderr",
     "output_type": "stream",
     "text": [
      " 94%|█████████▍| 47/50 [17:56<01:14, 24.92s/it]"
     ]
    },
    {
     "name": "stdout",
     "output_type": "stream",
     "text": [
      "Rate Limit? Sleeping...\n"
     ]
    },
    {
     "name": "stderr",
     "output_type": "stream",
     "text": [
      " 96%|█████████▌| 48/50 [18:18<00:47, 23.91s/it]"
     ]
    },
    {
     "name": "stdout",
     "output_type": "stream",
     "text": [
      "Not found in This statement does not provide a multiple-choice question or options to choose from. Therefore, I cannot parse a correct letter choice.\n",
      "\n",
      "Not found in This statement does not provide enough information to answer a question. Therefore, I cannot provide a letter choice.\n",
      "\n",
      "Not found in This statement is a simple observation and does not require choosing from multiple options. Therefore, I cannot provide a letter choice.\n",
      "\n",
      "Not found in This statement is a simple observation and doesn't require a choice. Therefore, I cannot provide a letter choice.\n",
      "\n",
      "Not found in This statement does not provide a question or choices to parse. Therefore, I cannot provide a letter choice as an answer.\n",
      "\n",
      "Rate Limit? Sleeping...\n"
     ]
    },
    {
     "name": "stderr",
     "output_type": "stream",
     "text": [
      " 98%|█████████▊| 49/50 [18:46<00:25, 25.31s/it]"
     ]
    },
    {
     "name": "stdout",
     "output_type": "stream",
     "text": [
      "Rate Limit? Sleeping...\n"
     ]
    },
    {
     "name": "stderr",
     "output_type": "stream",
     "text": [
      "100%|██████████| 50/50 [19:10<00:00, 23.00s/it]\n"
     ]
    }
   ],
   "source": [
    "for question_number in trange(0, 50):\n",
    "    if questions.iloc[question_number]['answers'] is not None:\n",
    "        continue\n",
    "    \n",
    "    raw_video_path = video_names[question_number]\n",
    "    raw_question = questions.iloc[question_number]['question']\n",
    "        \n",
    "    Q, C = parse_question(raw_question)\n",
    "        \n",
    "    answered = False\n",
    "    \n",
    "    while not answered:\n",
    "        try: \n",
    "            model_ans, freq_mp = answer_question(video_path=raw_video_path, question=Q, choices=C)\n",
    "            \n",
    "            questions.at[question_number, 'reasoning'] = model_ans\n",
    "            questions.at[question_number, 'entropy'] = calculate_entropy(freq_mp)\n",
    "            questions.at[question_number, 'freq_map'] = freq_mp\n",
    "            \n",
    "            answered = True\n",
    "            \n",
    "        except Exception as e:\n",
    "            print(f\"Error on question {question_number}: {e}\")\n",
    "        \n",
    "        print(\"Rate Limit? Sleeping...\")\n",
    "        time.sleep(3)\n",
    "        \n",
    "    time.sleep(SLEEP_TIME)\n",
    "    \n",
    "    "
   ]
  },
  {
   "cell_type": "code",
   "execution_count": 25,
   "metadata": {},
   "outputs": [
    {
     "name": "stdout",
     "output_type": "stream",
     "text": [
      "   id                                           question answers  freq_map  \\\n",
      "0   1  Was ego doing a legal maneuver if its goal is ...    None  {'B': 1}   \n",
      "1   2  Where can ego legally park on this street? A. ...    None  {'B': 1}   \n",
      "2   3  What is the best description of the maneuver e...    None  {'D': 1}   \n",
      "3   4  Why is ego stopped? A. Judah. B. Traffic Light...    None  {'B': 1}   \n",
      "4   5  What is the blinker state of the oncoming car,...    None  {'A': 1}   \n",
      "\n",
      "  entropy reasoning  \n",
      "0    -0.0         B  \n",
      "1    -0.0         B  \n",
      "2    -0.0         D  \n",
      "3    -0.0         B  \n",
      "4    -0.0         A  \n"
     ]
    }
   ],
   "source": [
    "print(questions.head())"
   ]
  },
  {
   "cell_type": "markdown",
   "metadata": {},
   "source": [
    "# Parse Questions"
   ]
  },
  {
   "cell_type": "code",
   "execution_count": 31,
   "metadata": {},
   "outputs": [
    {
     "name": "stdout",
     "output_type": "stream",
     "text": [
      "['B', 'B', 'D', 'B', 'A', 'D', 'A', 'A', 'B', 'A', 'D', 'B', 'C', 'C', 'B', 'B', 'D', 'C', 'D', 'Invalid', 'B', 'B', 'B', 'A', 'A', 'C', 'A', 'A', 'B', 'B', 'C', 'B', 'C', 'D', 'D', 'A', 'D', 'B', 'B', 'B', 'D', 'B', 'A', 'Invalid', 'C', 'Invalid', 'D', 'D', 'Invalid', 'D']\n",
      "['B', 'B', 'D', 'B', 'A', 'D', 'A', 'A', 'B', 'A', 'D', 'B', 'C', 'C', 'B', 'B', 'D', 'C', 'D', 'C', 'B', 'B', 'B', 'A', 'A', 'C', 'A', 'A', 'B', 'B', 'C', 'B', 'C', 'D', 'D', 'A', 'D', 'B', 'B', 'B', 'D', 'B', 'A', 'C', 'C', 'C', 'D', 'D', 'C', 'D']\n"
     ]
    }
   ],
   "source": [
    "letter_answers = []\n",
    "for i in questions['reasoning']:\n",
    "    letter_answers.append(i)\n",
    "    \n",
    "print(letter_answers)\n",
    "\n",
    "temp = []\n",
    "for i in letter_answers:\n",
    "    if i not in ['A', 'B', 'C', 'D']:\n",
    "        temp.append('C')\n",
    "    else:\n",
    "        temp.append(i)\n",
    "        \n",
    "letter_answers = temp\n",
    "print(letter_answers)"
   ]
  },
  {
   "cell_type": "code",
   "execution_count": 32,
   "metadata": {},
   "outputs": [],
   "source": [
    "dataframe_A, dataframe_B = [], []\n",
    "\n",
    "idx = 1\n",
    "while idx <= 251:\n",
    "    dataframe_A.append(idx)\n",
    "    \n",
    "    if idx-1 < len(letter_answers):\n",
    "        dataframe_B.append(letter_answers[idx-1])\n",
    "    else:\n",
    "        dataframe_B.append('A')\n",
    "    idx += 1"
   ]
  },
  {
   "cell_type": "code",
   "execution_count": 33,
   "metadata": {},
   "outputs": [],
   "source": [
    "answers = pd.DataFrame({'id': dataframe_A, 'answer': dataframe_B})\n"
   ]
  },
  {
   "cell_type": "code",
   "execution_count": 34,
   "metadata": {},
   "outputs": [
    {
     "data": {
      "text/html": [
       "<div>\n",
       "<style scoped>\n",
       "    .dataframe tbody tr th:only-of-type {\n",
       "        vertical-align: middle;\n",
       "    }\n",
       "\n",
       "    .dataframe tbody tr th {\n",
       "        vertical-align: top;\n",
       "    }\n",
       "\n",
       "    .dataframe thead th {\n",
       "        text-align: right;\n",
       "    }\n",
       "</style>\n",
       "<table border=\"1\" class=\"dataframe\">\n",
       "  <thead>\n",
       "    <tr style=\"text-align: right;\">\n",
       "      <th></th>\n",
       "      <th>id</th>\n",
       "      <th>answer</th>\n",
       "    </tr>\n",
       "  </thead>\n",
       "  <tbody>\n",
       "    <tr>\n",
       "      <th>0</th>\n",
       "      <td>1</td>\n",
       "      <td>B</td>\n",
       "    </tr>\n",
       "    <tr>\n",
       "      <th>1</th>\n",
       "      <td>2</td>\n",
       "      <td>B</td>\n",
       "    </tr>\n",
       "    <tr>\n",
       "      <th>2</th>\n",
       "      <td>3</td>\n",
       "      <td>D</td>\n",
       "    </tr>\n",
       "    <tr>\n",
       "      <th>3</th>\n",
       "      <td>4</td>\n",
       "      <td>B</td>\n",
       "    </tr>\n",
       "    <tr>\n",
       "      <th>4</th>\n",
       "      <td>5</td>\n",
       "      <td>A</td>\n",
       "    </tr>\n",
       "  </tbody>\n",
       "</table>\n",
       "</div>"
      ],
      "text/plain": [
       "   id answer\n",
       "0   1      B\n",
       "1   2      B\n",
       "2   3      D\n",
       "3   4      B\n",
       "4   5      A"
      ]
     },
     "execution_count": 34,
     "metadata": {},
     "output_type": "execute_result"
    }
   ],
   "source": [
    "answers.to_csv('baseline_answers.csv', index=False)\n",
    "answers.head()"
   ]
  },
  {
   "cell_type": "code",
   "execution_count": null,
   "metadata": {},
   "outputs": [],
   "source": []
  }
 ],
 "metadata": {
  "kernelspec": {
   "display_name": "myenv",
   "language": "python",
   "name": "python3"
  },
  "language_info": {
   "codemirror_mode": {
    "name": "ipython",
    "version": 3
   },
   "file_extension": ".py",
   "mimetype": "text/x-python",
   "name": "python",
   "nbconvert_exporter": "python",
   "pygments_lexer": "ipython3",
   "version": "3.10.15"
  }
 },
 "nbformat": 4,
 "nbformat_minor": 2
}
