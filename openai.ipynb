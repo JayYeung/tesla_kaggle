{
 "cells": [
  {
   "cell_type": "code",
   "execution_count": 3,
   "metadata": {},
   "outputs": [],
   "source": [
    "import cv2  \n",
    "import base64\n",
    "from openai import OpenAI\n",
    "\n",
    "client = OpenAI(api_key='***REMOVED***')\n",
    "\n",
    "def query_model(video_path, prompt):\n",
    "    video = cv2.VideoCapture(video_path)\n",
    "    \n",
    "    base64Frames = []\n",
    "    while video.isOpened():\n",
    "        success, frame = video.read()\n",
    "        if not success:\n",
    "            break\n",
    "        _, buffer = cv2.imencode(\".jpg\", frame)\n",
    "        base64Frames.append(base64.b64encode(buffer).decode(\"utf-8\"))\n",
    "\n",
    "    PROMPT_MESSAGES = [\n",
    "        {\n",
    "            \"role\": \"user\",\n",
    "            \"content\": [\n",
    "                prompt,\n",
    "                *map(lambda x: {\"image\": x, \"resize\": 768}, base64Frames[0::50]),\n",
    "            ],\n",
    "            'detail': 'high',\n",
    "        },\n",
    "    ]\n",
    "    params = {\n",
    "        \"model\": \"gpt-4o-mini\",\n",
    "        \"messages\": PROMPT_MESSAGES,\n",
    "    }\n",
    "\n",
    "    result = client.chat.completions.create(**params)\n",
    "    return result.choices[0].message.content"
   ]
  },
  {
   "cell_type": "code",
   "execution_count": null,
   "metadata": {},
   "outputs": [
    {
     "data": {
      "text/plain": [
       "\"Based on the context and the provided options, it seems the most fitting answer for whether Ego is doing a legal maneuver to turn right at the intersection is:\\n\\n**(B)** It's illegal as the right turn lane is blocked by construction.\\n\\nThe images clearly show construction barriers that obstruct the right turn lane, indicating it's likely not legal to attempt that maneuver.\""
      ]
     },
     "execution_count": 30,
     "metadata": {},
     "output_type": "execute_result"
    }
   ],
   "source": [
    "prompt = '''\n",
    "Was ego doing a legal maneuver if its goal is to turn right at the intersection? \n",
    "\n",
    "Options:\n",
    "\n",
    "(A) It's legal as the lane is empty. (B) It's illegal as the right turn lane is bloacked by construction. (C) It's illegal as ego was cutting in other vehicles that were waiting. (D) It's legal but the lane ahead is way too narrow for ego to pass.\n",
    "'''\n",
    "\n",
    "video_path = 'tesla-real-world-video-q-a/videos/videos/00001.mp4'\n",
    "\n",
    "response = query_model(video_path, prompt)\n",
    "response"
   ]
  }
 ],
 "metadata": {
  "kernelspec": {
   "display_name": "myenv",
   "language": "python",
   "name": "python3"
  },
  "language_info": {
   "codemirror_mode": {
    "name": "ipython",
    "version": 3
   },
   "file_extension": ".py",
   "mimetype": "text/x-python",
   "name": "python",
   "nbconvert_exporter": "python",
   "pygments_lexer": "ipython3",
   "version": "3.10.15"
  }
 },
 "nbformat": 4,
 "nbformat_minor": 2
}
