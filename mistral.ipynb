{
 "cells": [
  {
   "cell_type": "code",
   "execution_count": null,
   "metadata": {},
   "outputs": [
    {
     "data": {
      "text/plain": [
       "\"Based on the image and the options provided, the correct answer is:\\n\\n(B) It's illegal as the right turn lane is blocked by construction.\\n\\nThe right turn lane is visibly blocked by construction barriers and orange cones, making it illegal for the ego vehicle to turn right at the intersection.\""
      ]
     },
     "execution_count": 33,
     "metadata": {},
     "output_type": "execute_result"
    }
   ],
   "source": [
    "import os\n",
    "import cv2\n",
    "import base64\n",
    "from mistralai import Mistral\n",
    "\n",
    "MISTRAL_API_KEY =  \"***REMOVED***\"\n",
    "model = \"pixtral-12b-2409\"\n",
    "output_folder = 'extracted_frames'\n",
    "\n",
    "client = Mistral(api_key=MISTRAL_API_KEY)\n",
    "model = \"pixtral-12b-2409\"\n",
    "\n",
    "def extract_frames(video_path, output_folder, interval=30):\n",
    "    if not os.path.exists(output_folder):\n",
    "        os.makedirs(output_folder)\n",
    "\n",
    "    video_capture = cv2.VideoCapture(video_path)\n",
    "    frame_count = 0\n",
    "    extracted_frames = []\n",
    "\n",
    "    while video_capture.isOpened():\n",
    "        ret, frame = video_capture.read()\n",
    "        if not ret:\n",
    "            break\n",
    "\n",
    "        if frame_count % interval == 0:\n",
    "            frame_filename = os.path.join(output_folder, f\"frame_{frame_count}.jpg\")\n",
    "            cv2.imwrite(frame_filename, frame)\n",
    "            extracted_frames.append(frame_filename)\n",
    "\n",
    "        frame_count += 1\n",
    "\n",
    "    video_capture.release()\n",
    "    return extracted_frames\n",
    "\n",
    "def encode_image_to_base64(image_path):\n",
    "    with open(image_path, \"rb\") as image_file:\n",
    "        return base64.b64encode(image_file.read()).decode('utf-8')\n",
    "    \n",
    "def query_model(video_path, prompt): \n",
    "    frames = extract_frames(video_path, output_folder)\n",
    "    contents = [{\n",
    "        \"type\": \"text\",\n",
    "        \"text\": prompt,\n",
    "    }]\n",
    "\n",
    "    for frame_path in frames:\n",
    "        encoded_image = encode_image_to_base64(frame_path)\n",
    "        contents.append({\n",
    "            \"type\": \"image_url\",\n",
    "            \"image_url\": f\"data:image/jpeg;base64,{encoded_image}\"\n",
    "        })\n",
    "\n",
    "    messages = [\n",
    "        {\n",
    "            \"role\": \"user\",\n",
    "            \"content\": contents\n",
    "        }\n",
    "    ]\n",
    "    \n",
    "    response = client.chat.complete(model=model, messages=messages)\n",
    "\n",
    "    return response.choices[0].message.content\n",
    "    \n",
    "\n",
    "video_path = 'tesla-real-world-video-q-a/videos/videos/00001.mp4'\n",
    "prompt = '''\n",
    "Was ego doing a legal maneuver if its goal is to turn right at the intersection? \n",
    "\n",
    "Options:\n",
    "\n",
    "(A) It's legal as the lane is empty. (B) It's illegal as the right turn lane is bloacked by construction. (C) It's illegal as ego was cutting in other vehicles that were waiting. (D) It's legal but the lane ahead is way too narrow for ego to pass.\n",
    "'''\n",
    "\n",
    "response = query_model(video_path, prompt)\n",
    "response\n"
   ]
  },
  {
   "cell_type": "code",
   "execution_count": null,
   "metadata": {},
   "outputs": [],
   "source": []
  }
 ],
 "metadata": {
  "kernelspec": {
   "display_name": "3.11.8",
   "language": "python",
   "name": "python3"
  },
  "language_info": {
   "codemirror_mode": {
    "name": "ipython",
    "version": 3
   },
   "file_extension": ".py",
   "mimetype": "text/x-python",
   "name": "python",
   "nbconvert_exporter": "python",
   "pygments_lexer": "ipython3",
   "version": "3.11.8"
  }
 },
 "nbformat": 4,
 "nbformat_minor": 2
}
