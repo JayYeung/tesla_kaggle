{
 "cells": [
  {
   "cell_type": "code",
   "execution_count": 1,
   "metadata": {},
   "outputs": [],
   "source": [
    "from google import genai\n",
    "import pandas as pd\n",
    "import random\n",
    "import time\n",
    "from IPython.display import Markdown\n",
    "import time\n",
    "from tqdm import trange\n",
    "GEMINI_API_KEY=\"***REMOVED***\"\n",
    "client = genai.Client(api_key=GEMINI_API_KEY)\n"
   ]
  },
  {
   "cell_type": "code",
   "execution_count": 2,
   "metadata": {},
   "outputs": [],
   "source": [
    "import os\n",
    "\n",
    "VIDEO_PATH = 'tesla-real-world-video-q-a/videos'\n",
    "\n",
    "for video in os.listdir(VIDEO_PATH):\n",
    "    if video.endswith('.mp4'):\n",
    "        video_file = client.files.upload(file=VIDEO_PATH + video)\n",
    "        print(str(video_file) + ' uploaded')\n"
   ]
  },
  {
   "cell_type": "code",
   "execution_count": 3,
   "metadata": {},
   "outputs": [],
   "source": [
    "# CACHE THIS SO DONT HAVE TO UPLOAD EVERY TIME\n",
    "video_names = ['/files/tw665rf6u2em', '/files/adot8mwqx5x8', '/files/9po1avlsm7f9', '/files/yt9a9psrka9r', '/files/p4qf8z7u09gi', '/files/tpen623uy5qr', '/files/cgwmuqbl16zr', '/files/e7hmaqm5i5ha', '/files/hklyvji2hmp7', '/files/iu1dm44rzjxb', '/files/zge9lpjs7h7q', '/files/zb88tzyjuznz', '/files/kwcwvib4tjpv', '/files/o8yib7ohyfxg', '/files/eopu01d6wp0j', '/files/ccske1io7v24', '/files/uxlhl1t9mpxc', '/files/kt7nxnixyfr9', '/files/7255bog4xq89', '/files/2nds4uxi92kd', '/files/esqldu9alume', '/files/ql30433b1vc6', '/files/9ez43wx70qdv', '/files/af34tanig9gc', '/files/pjd5wi63eb1u', '/files/bfwe4wfkjphm', '/files/ve24fszp6dgz', '/files/div8okijpkbh', '/files/splyrhu1g9xs', '/files/jztnog1jagxr', '/files/wqbstailjg60', '/files/dx7pwgwd110u', '/files/sp14h3tvduzy', '/files/n91m9yu0at27', '/files/wz80be455d0s', '/files/302jdw1o6y92', '/files/gknr0u24x64q', '/files/6qtaafyokqd0', '/files/h42kez3dh6lu', '/files/bo774opih334', '/files/f1gugtoepnxh', '/files/4b3rw572v53r', '/files/eglguei4pszy', '/files/1hiy0v2eki7q', '/files/l64min9tuwem', '/files/3wmvt82rh2nw', '/files/scdj8bb5rzc7', '/files/5tcacvfjio6t', '/files/r7f6i7w0ao7g', '/files/z8xnuwwlj74h']\n"
   ]
  },
  {
   "cell_type": "code",
   "execution_count": 4,
   "metadata": {},
   "outputs": [
    {
     "data": {
      "text/html": [
       "<div>\n",
       "<style scoped>\n",
       "    .dataframe tbody tr th:only-of-type {\n",
       "        vertical-align: middle;\n",
       "    }\n",
       "\n",
       "    .dataframe tbody tr th {\n",
       "        vertical-align: top;\n",
       "    }\n",
       "\n",
       "    .dataframe thead th {\n",
       "        text-align: right;\n",
       "    }\n",
       "</style>\n",
       "<table border=\"1\" class=\"dataframe\">\n",
       "  <thead>\n",
       "    <tr style=\"text-align: right;\">\n",
       "      <th></th>\n",
       "      <th>id</th>\n",
       "      <th>question</th>\n",
       "      <th>answers</th>\n",
       "      <th>freq_map</th>\n",
       "      <th>entropy</th>\n",
       "    </tr>\n",
       "  </thead>\n",
       "  <tbody>\n",
       "    <tr>\n",
       "      <th>0</th>\n",
       "      <td>1</td>\n",
       "      <td>Was ego doing a legal maneuver if its goal is ...</td>\n",
       "      <td>None</td>\n",
       "      <td>None</td>\n",
       "      <td>None</td>\n",
       "    </tr>\n",
       "    <tr>\n",
       "      <th>1</th>\n",
       "      <td>2</td>\n",
       "      <td>Where can ego legally park on this street? A. ...</td>\n",
       "      <td>None</td>\n",
       "      <td>None</td>\n",
       "      <td>None</td>\n",
       "    </tr>\n",
       "    <tr>\n",
       "      <th>2</th>\n",
       "      <td>3</td>\n",
       "      <td>What is the best description of the maneuver e...</td>\n",
       "      <td>None</td>\n",
       "      <td>None</td>\n",
       "      <td>None</td>\n",
       "    </tr>\n",
       "    <tr>\n",
       "      <th>3</th>\n",
       "      <td>4</td>\n",
       "      <td>Why is ego stopped? A. Judah. B. Traffic Light...</td>\n",
       "      <td>None</td>\n",
       "      <td>None</td>\n",
       "      <td>None</td>\n",
       "    </tr>\n",
       "    <tr>\n",
       "      <th>4</th>\n",
       "      <td>5</td>\n",
       "      <td>What is the blinker state of the oncoming car,...</td>\n",
       "      <td>None</td>\n",
       "      <td>None</td>\n",
       "      <td>None</td>\n",
       "    </tr>\n",
       "  </tbody>\n",
       "</table>\n",
       "</div>"
      ],
      "text/plain": [
       "   id                                           question answers freq_map  \\\n",
       "0   1  Was ego doing a legal maneuver if its goal is ...    None     None   \n",
       "1   2  Where can ego legally park on this street? A. ...    None     None   \n",
       "2   3  What is the best description of the maneuver e...    None     None   \n",
       "3   4  Why is ego stopped? A. Judah. B. Traffic Light...    None     None   \n",
       "4   5  What is the blinker state of the oncoming car,...    None     None   \n",
       "\n",
       "  entropy  \n",
       "0    None  \n",
       "1    None  \n",
       "2    None  \n",
       "3    None  \n",
       "4    None  "
      ]
     },
     "execution_count": 4,
     "metadata": {},
     "output_type": "execute_result"
    }
   ],
   "source": [
    "\n",
    "\n",
    "questions = pd.read_csv('tesla-real-world-video-q-a/questions.csv')\n",
    "questions['answers'] = None\n",
    "questions['freq_map'] = None\n",
    "questions['entropy'] = None\n",
    "questions.head()"
   ]
  },
  {
   "cell_type": "code",
   "execution_count": 6,
   "metadata": {},
   "outputs": [
    {
     "name": "stdout",
     "output_type": "stream",
     "text": [
      "B\n"
     ]
    }
   ],
   "source": [
    "def extract_answer(text, depth = 5):\n",
    "    if depth == 0:\n",
    "        return \"NOT FOUND\"\n",
    "    \n",
    "    temp = client.models.generate_content(\n",
    "        model='gemini-2.0-flash', contents=f'''You are an answer parser.\n",
    "        Parse the correct letter choice and include the final answer surrounded by <answer></answer> XML tags. \n",
    "        \n",
    "        ****  ONLY INCLUDE A SINGLE LETTER WITHIN <answer></answer> ****\n",
    "        \n",
    "        Prompt:\\n{text}\n",
    "        '''\n",
    "    ).text\n",
    "    \n",
    "    # print(temp)\n",
    "    \n",
    "    try:\n",
    "        cur = temp.split('<answer>')[1].split('</answer>')[0].strip()\n",
    "        assert(len(cur) == 1)\n",
    "        assert(cur in ['A', 'B', 'C', 'D'])\n",
    "        \n",
    "        if depth != 5:\n",
    "            print(\"BAD TEXT\", text)\n",
    "            print(\"PARSED\", cur)\n",
    "            \n",
    "        return cur\n",
    "    \n",
    "    except Exception as e:\n",
    "        time.sleep(1)\n",
    "        print(\"Not found in\", temp)\n",
    "        return extract_answer(text, depth - 1)\n",
    "    \n",
    "    \n",
    "print(extract_answer('''Here's the breakdown:\n",
    "\n",
    "* **Ego's Goal:** Turn right.\n",
    "* **The Lane:** Marked as a right-turn lane by the roundabout sign.\n",
    "\n",
    "The correct answer is (B). The construction barrels clearly block the right-turn lane, making it illegal for ego to use it.  Ego should wait behind the other vehicles.'''))"
   ]
  },
  {
   "cell_type": "code",
   "execution_count": 7,
   "metadata": {},
   "outputs": [
    {
     "name": "stdout",
     "output_type": "stream",
     "text": [
      "('Was ego doing a legal maneuver if its goal is to turn right at the intersection? ', {'A': \" It's legal as the lane is empty. \", 'B': \" It's illegal as the right turn lane is bloacked by construction. \", 'C': \" It's illegal as ego was cutting in other vehicles that were waiting. \"})\n"
     ]
    }
   ],
   "source": [
    "def parse_question(question_str):\n",
    "    Q = question_str.split('A.')[0]\n",
    "    \n",
    "    A_str = question_str.split(Q)[1]\n",
    "    \n",
    "    A_str += '&.'\n",
    "    \n",
    "    mp = {}\n",
    "    \n",
    "    temp = ['A', 'B', 'C', 'D', 'E', 'F', 'G', '&']\n",
    "    \n",
    "    for idx in range(len(temp)-1):\n",
    "        cur_choice = temp[idx]\n",
    "        nxt_choice = temp[idx+1]\n",
    "        \n",
    "        if nxt_choice + '.' not in A_str:\n",
    "            break\n",
    "        \n",
    "        mp[cur_choice] = A_str.split(cur_choice + '.')[1].split(nxt_choice + '.')[0]\n",
    "    \n",
    "    return Q, mp\n",
    "\n",
    "print(parse_question(questions['question'][0]))"
   ]
  },
  {
   "cell_type": "code",
   "execution_count": 11,
   "metadata": {},
   "outputs": [
    {
     "name": "stdout",
     "output_type": "stream",
     "text": [
      "Here's the breakdown of the situation and the legality of the maneuver:\n",
      "\n",
      "*   **The Situation:** Ego (the vehicle with the camera) is approaching an intersection where it appears they intend to turn right. There are other vehicles ahead, seemingly queued for the right turn. Ego is moving to the left of these vehicles.\n",
      "\n",
      "*   **Analyzing the Options:**\n",
      "\n",
      "    *   **(A) It's legal as the lane is empty:** This is not applicable here.\n",
      "    *   **(B) It's illegal as the right turn lane is blocked by construction:** There's no indication of construction blocking the right-turn lane.\n",
      "    *   **(C) It's illegal as ego was cutting in other vehicles that were waiting:** This is the most accurate description. By driving to the front of other vehicles, it suggests that the vehicle with the dashcam is probably jumping ahead out of turn.\n",
      "    *   **(D) It's legal but the lane ahead is way too narrow for ego to pass:** The width of the lane ahead is a safety concern, not a legal one.\n",
      "    \n",
      "Based on the analysis, the most relevant option is **(C) It's illegal as ego was cutting in other vehicles that were waiting.**\n",
      "\n",
      "\n"
     ]
    }
   ],
   "source": [
    "def query_model(video_path, prompt):\n",
    "    # print(\"Sending prompt:\\n\", prompt)\n",
    "    video_file = client.files.get(name=video_path)\n",
    "    result = client.models.generate_content(\n",
    "                model=\"gemini-2.0-pro-exp-02-05\",\n",
    "                # gemini-2.0-flash\n",
    "                contents=[\n",
    "                    video_file,\n",
    "                    prompt\n",
    "                ]\n",
    "            ).text\n",
    "    # print(result)\n",
    "    return result\n",
    "\n",
    "response = query_model(video_names[0][1:], '''Was ego doing a legal maneuver if its goal is to turn right at the intersection? \n",
    "\n",
    "Options:\n",
    "\n",
    "(A) It's legal as the lane is empty. \n",
    "(B) It's illegal as the right turn lane is bloacked by construction. \n",
    "(C) It's illegal as ego was cutting in other vehicles that were waiting. \n",
    "(D) It's legal but the lane ahead is way too narrow for ego to pass.\n",
    "''')\n",
    "print(response)"
   ]
  },
  {
   "cell_type": "code",
   "execution_count": 12,
   "metadata": {},
   "outputs": [
    {
     "name": "stdout",
     "output_type": "stream",
     "text": [
      "Entropy: 1.3709505944546687\n"
     ]
    }
   ],
   "source": [
    "import math\n",
    "\n",
    "def calculate_entropy(freq_map):\n",
    "    total = sum(freq_map.values())\n",
    "    entropy = -sum((count / total) * math.log2(count / total) for count in freq_map.values() if count > 0)\n",
    "    return entropy\n",
    "\n",
    "# Example usage:\n",
    "frequency_map = {'D': 1, 'A': 3, 'C': 1}\n",
    "entropy_value = calculate_entropy(frequency_map)\n",
    "print(\"Entropy:\", entropy_value)"
   ]
  },
  {
   "cell_type": "code",
   "execution_count": null,
   "metadata": {},
   "outputs": [
    {
     "name": "stdout",
     "output_type": "stream",
     "text": [
      "files/tw665rf6u2em\n",
      "==========\n",
      "Was ego doing a legal maneuver if its goal is to turn right at the intersection? A. It's legal as the lane is empty. B. It's illegal as the right turn lane is bloacked by construction. C. It's illegal as ego was cutting in other vehicles that were waiting. D. It's legal but the lane ahead is way too narrow for ego to pass.\n",
      "==========\n",
      "Parsed Question: Was ego doing a legal maneuver if its goal is to turn right at the intersection? \n",
      "Parsed Choices: {'A': \" It's legal as the lane is empty. \", 'B': \" It's illegal as the right turn lane is bloacked by construction. \", 'C': \" It's illegal as ego was cutting in other vehicles that were waiting. \"}\n",
      "Majority Answer (original index): C\n",
      "Vote Map (original indices): {'C': 1}\n"
     ]
    }
   ],
   "source": [
    "import random\n",
    "\n",
    "num_shuffles = 1\n",
    "\n",
    "def answer_question(video_path, question, choices):\n",
    "    \"\"\"\n",
    "    Shuffles answer options while keeping a mapping from fixed labels (A, B, C, D)\n",
    "    to the original answer keys. Queries the model multiple times, extracts the answer\n",
    "    with extract_answer(), and uses majority voting over the original options.\n",
    "    \n",
    "    Args:\n",
    "        video_path (str): Path to the video file.\n",
    "        question (str): The question to ask.\n",
    "        choices (dict): Dictionary mapping original letters (e.g., 'A', 'B', 'C', 'D')\n",
    "                        to option text.\n",
    "                        \n",
    "    Returns:\n",
    "        tuple: (majority_vote, vote_counts) where:\n",
    "            - majority_vote: The original option letter with the most votes.\n",
    "            - vote_counts: A dictionary counting votes for each original option.\n",
    "    \"\"\"\n",
    "    votes = {}\n",
    "    fixed_labels = ['A', 'B', 'C', 'D']\n",
    "    \n",
    "    for _ in range(num_shuffles):\n",
    "        # Shuffle the original choices (list of tuples: (original_letter, option_text))\n",
    "        shuffled_choices = list(choices.items())\n",
    "        random.shuffle(shuffled_choices)\n",
    "        \n",
    "        # Build a mapping from fixed label to the original letter\n",
    "        mapping = {}  # new label -> original letter\n",
    "        prompt = question + '\\n\\nOptions:\\n\\n'\n",
    "        for new_label, (orig_letter, option_text) in zip(fixed_labels, shuffled_choices):\n",
    "            mapping[new_label] = orig_letter\n",
    "            prompt += f\"{new_label}. {option_text}\\n\"\n",
    "        \n",
    "        # Query the model and extract its answer using extract_answer()\n",
    "        res = query_model(video_path=video_path, prompt=prompt)\n",
    "        answer_new_label = extract_answer(res)\n",
    "        \n",
    "        # Convert the fixed label answer to the original letter\n",
    "        if answer_new_label in mapping:\n",
    "            orig_answer = mapping[answer_new_label]\n",
    "            votes[orig_answer] = votes.get(orig_answer, 0) + 1\n",
    "        else:\n",
    "            votes[\"Invalid\"] = votes.get(\"Invalid\", 0) + 1\n",
    "        time.sleep(0.5)\n",
    "        \n",
    "        \n",
    "    # Majority voting among valid (original) options\n",
    "    valid_votes = {k: v for k, v in votes.items() if k in choices}\n",
    "    if valid_votes:\n",
    "        majority_vote = max(valid_votes, key=valid_votes.get)\n",
    "    else:\n",
    "        majority_vote = \"Invalid\"\n",
    "    \n",
    "    return majority_vote, votes\n",
    "\n",
    "# Example usage:\n",
    "print(video_names[0][1:])\n",
    "print('=' * 10)\n",
    "print(questions.iloc[0]['question'])\n",
    "print('=' * 10)\n",
    "Q, C = parse_question(questions.iloc[0]['question'])\n",
    "print(\"Parsed Question:\", Q)\n",
    "print(\"Parsed Choices:\", C)\n",
    "\n",
    "majority_answer, vote_map = answer_question(video_path=video_names[0][1:], question=Q, choices=C)\n",
    "print(\"Majority Answer (original index):\", majority_answer)\n",
    "print(\"Vote Map (original indices):\", vote_map)"
   ]
  },
  {
   "cell_type": "code",
   "execution_count": null,
   "metadata": {},
   "outputs": [
    {
     "name": "stderr",
     "output_type": "stream",
     "text": [
      "  0%|          | 0/50 [00:00<?, ?it/s]"
     ]
    },
    {
     "name": "stdout",
     "output_type": "stream",
     "text": [
      "Not found in B.\n",
      "\n",
      "BAD TEXT Based on the video, here's an analysis of the situation:\n",
      "\n",
      "*   **What we see:** The ego vehicle approaches an intersection with a designated right-turn lane. There are a few cars ahead, seemingly waiting to turn right. The ego vehicle moves past these cars and is approaching the lane, and other cars.\n",
      "\n",
      "*   **Analysis** It is illegal for ego to use a turning lane if other vehicle are waiting in the right turn lane.\n",
      "\n",
      "Based on the options, here the best answer:\n",
      "\n",
      "*   **B. It's illegal as ego was cutting in other vehicles that were waiting.**\n",
      "\n",
      "Ego did pass other vehicles to be first in turn, in the turn lane.\n",
      "\n",
      "PARSED B\n",
      "Rate Limit? Sleeping...\n"
     ]
    },
    {
     "name": "stderr",
     "output_type": "stream",
     "text": [
      "  2%|▏         | 1/50 [00:15<12:38, 15.49s/it]"
     ]
    },
    {
     "name": "stdout",
     "output_type": "stream",
     "text": [
      "Not found in  B </answer>\n",
      "BAD TEXT Based on the images, here's an analysis of the parking situation:\n",
      "\n",
      "*   There's a \"No Parking\" sign visible on the right, near the gas station.\n",
      "*   The intersection has designated crosswalks and bike lanes, making parking in those areas illegal.\n",
      "\n",
      "The right curb is the direction Ego is travelling. There is a \"No Parking\" sign there. Therefore, the answer would be:\n",
      "\n",
      "**B. No parking anywhere.**\n",
      "\n",
      "PARSED B\n",
      "Rate Limit? Sleeping...\n"
     ]
    },
    {
     "name": "stderr",
     "output_type": "stream",
     "text": [
      "  4%|▍         | 2/50 [00:30<12:21, 15.46s/it]"
     ]
    },
    {
     "name": "stdout",
     "output_type": "stream",
     "text": [
      "Rate Limit? Sleeping...\n"
     ]
    },
    {
     "name": "stderr",
     "output_type": "stream",
     "text": [
      "  6%|▌         | 3/50 [00:44<11:33, 14.77s/it]"
     ]
    },
    {
     "name": "stdout",
     "output_type": "stream",
     "text": [
      "Rate Limit? Sleeping...\n"
     ]
    },
    {
     "name": "stderr",
     "output_type": "stream",
     "text": [
      "  8%|▊         | 4/50 [00:59<11:09, 14.56s/it]"
     ]
    },
    {
     "name": "stdout",
     "output_type": "stream",
     "text": [
      "Rate Limit? Sleeping...\n"
     ]
    },
    {
     "name": "stderr",
     "output_type": "stream",
     "text": [
      " 10%|█         | 5/50 [01:12<10:35, 14.13s/it]"
     ]
    },
    {
     "name": "stdout",
     "output_type": "stream",
     "text": [
      "Rate Limit? Sleeping...\n"
     ]
    },
    {
     "name": "stderr",
     "output_type": "stream",
     "text": [
      " 12%|█▏        | 6/50 [01:27<10:31, 14.34s/it]"
     ]
    },
    {
     "name": "stdout",
     "output_type": "stream",
     "text": [
      "Rate Limit? Sleeping...\n"
     ]
    },
    {
     "name": "stderr",
     "output_type": "stream",
     "text": [
      " 14%|█▍        | 7/50 [01:42<10:28, 14.63s/it]"
     ]
    },
    {
     "name": "stdout",
     "output_type": "stream",
     "text": [
      "Rate Limit? Sleeping...\n"
     ]
    },
    {
     "name": "stderr",
     "output_type": "stream",
     "text": [
      " 16%|█▌        | 8/50 [01:56<10:00, 14.29s/it]"
     ]
    },
    {
     "name": "stdout",
     "output_type": "stream",
     "text": [
      "Rate Limit? Sleeping...\n"
     ]
    },
    {
     "name": "stderr",
     "output_type": "stream",
     "text": [
      " 18%|█▊        | 9/50 [02:10<09:46, 14.31s/it]"
     ]
    },
    {
     "name": "stdout",
     "output_type": "stream",
     "text": [
      "Rate Limit? Sleeping...\n"
     ]
    },
    {
     "name": "stderr",
     "output_type": "stream",
     "text": [
      " 20%|██        | 10/50 [02:23<09:23, 14.10s/it]"
     ]
    },
    {
     "name": "stdout",
     "output_type": "stream",
     "text": [
      "Not found in C</answer>\n",
      "Not found in C\n",
      "\n",
      "Not found in C</answer>\n",
      "Not found in C\n",
      "\n",
      "Not found in C </answer>\n",
      "Rate Limit? Sleeping...\n"
     ]
    },
    {
     "name": "stderr",
     "output_type": "stream",
     "text": [
      " 22%|██▏       | 11/50 [02:43<10:16, 15.81s/it]"
     ]
    },
    {
     "name": "stdout",
     "output_type": "stream",
     "text": [
      "Rate Limit? Sleeping...\n"
     ]
    },
    {
     "name": "stderr",
     "output_type": "stream",
     "text": [
      " 24%|██▍       | 12/50 [02:58<09:44, 15.38s/it]"
     ]
    },
    {
     "name": "stdout",
     "output_type": "stream",
     "text": [
      "Rate Limit? Sleeping...\n"
     ]
    },
    {
     "name": "stderr",
     "output_type": "stream",
     "text": [
      " 26%|██▌       | 13/50 [03:11<09:01, 14.65s/it]"
     ]
    },
    {
     "name": "stdout",
     "output_type": "stream",
     "text": [
      "Rate Limit? Sleeping...\n"
     ]
    },
    {
     "name": "stderr",
     "output_type": "stream",
     "text": [
      " 28%|██▊       | 14/50 [03:25<08:45, 14.61s/it]"
     ]
    },
    {
     "name": "stdout",
     "output_type": "stream",
     "text": [
      "Rate Limit? Sleeping...\n"
     ]
    }
   ],
   "source": [
    "for question_number in trange(0, 50):\n",
    "    if questions.iloc[question_number]['answers'] is not None:\n",
    "        continue\n",
    "    \n",
    "    raw_video_path = video_names[question_number][1:]\n",
    "    raw_question = questions.iloc[question_number]['question']\n",
    "        \n",
    "    Q, C = parse_question(raw_question)\n",
    "        \n",
    "    answered = False\n",
    "    \n",
    "    while not answered:\n",
    "        try: \n",
    "            model_ans, freq_mp = answer_question(video_path=raw_video_path, question=Q, choices=C)\n",
    "            \n",
    "            questions.at[question_number, 'reasoning'] = model_ans\n",
    "            questions.at[question_number, 'entropy'] = calculate_entropy(freq_mp)\n",
    "            questions.at[question_number, 'freq_map'] = freq_mp\n",
    "            \n",
    "            answered = True\n",
    "            \n",
    "        except Exception as e:\n",
    "            print(f\"Error on question {question_number}: {e}\")\n",
    "        \n",
    "        print(\"Rate Limit? Sleeping...\")\n",
    "        time.sleep(10)\n",
    "        \n",
    "    time.sleep(1)\n",
    "    \n",
    "    "
   ]
  },
  {
   "cell_type": "markdown",
   "metadata": {},
   "source": [
    "# Parse Questions"
   ]
  },
  {
   "cell_type": "code",
   "execution_count": null,
   "metadata": {},
   "outputs": [
    {
     "name": "stderr",
     "output_type": "stream",
     "text": [
      "  0%|          | 0/50 [00:00<?, ?it/s]"
     ]
    },
    {
     "name": "stdout",
     "output_type": "stream",
     "text": [
      "A\n"
     ]
    },
    {
     "name": "stderr",
     "output_type": "stream",
     "text": [
      "  2%|▏         | 1/50 [00:00<00:22,  2.19it/s]"
     ]
    },
    {
     "name": "stdout",
     "output_type": "stream",
     "text": [
      "B\n"
     ]
    },
    {
     "name": "stderr",
     "output_type": "stream",
     "text": [
      "  4%|▍         | 2/50 [00:00<00:21,  2.21it/s]"
     ]
    },
    {
     "name": "stdout",
     "output_type": "stream",
     "text": [
      "C\n"
     ]
    },
    {
     "name": "stderr",
     "output_type": "stream",
     "text": [
      "  6%|▌         | 3/50 [00:01<00:21,  2.22it/s]"
     ]
    },
    {
     "name": "stdout",
     "output_type": "stream",
     "text": [
      "A\n"
     ]
    },
    {
     "name": "stderr",
     "output_type": "stream",
     "text": [
      "  8%|▊         | 4/50 [00:01<00:21,  2.17it/s]"
     ]
    },
    {
     "name": "stdout",
     "output_type": "stream",
     "text": [
      "A\n"
     ]
    },
    {
     "name": "stderr",
     "output_type": "stream",
     "text": [
      " 10%|█         | 5/50 [00:02<00:18,  2.38it/s]"
     ]
    },
    {
     "name": "stdout",
     "output_type": "stream",
     "text": [
      "B\n"
     ]
    },
    {
     "name": "stderr",
     "output_type": "stream",
     "text": [
      " 12%|█▏        | 6/50 [00:02<00:19,  2.28it/s]"
     ]
    },
    {
     "name": "stdout",
     "output_type": "stream",
     "text": [
      "A\n"
     ]
    },
    {
     "name": "stderr",
     "output_type": "stream",
     "text": [
      " 14%|█▍        | 7/50 [00:03<00:18,  2.37it/s]"
     ]
    },
    {
     "name": "stdout",
     "output_type": "stream",
     "text": [
      "A\n"
     ]
    },
    {
     "name": "stderr",
     "output_type": "stream",
     "text": [
      " 16%|█▌        | 8/50 [00:03<00:17,  2.47it/s]"
     ]
    },
    {
     "name": "stdout",
     "output_type": "stream",
     "text": [
      "A\n"
     ]
    },
    {
     "name": "stderr",
     "output_type": "stream",
     "text": [
      " 18%|█▊        | 9/50 [00:03<00:16,  2.44it/s]"
     ]
    },
    {
     "name": "stdout",
     "output_type": "stream",
     "text": [
      "C\n"
     ]
    },
    {
     "name": "stderr",
     "output_type": "stream",
     "text": [
      " 20%|██        | 10/50 [00:04<00:16,  2.47it/s]"
     ]
    },
    {
     "name": "stdout",
     "output_type": "stream",
     "text": [
      "C\n"
     ]
    },
    {
     "name": "stderr",
     "output_type": "stream",
     "text": [
      " 22%|██▏       | 11/50 [00:04<00:15,  2.45it/s]"
     ]
    },
    {
     "name": "stdout",
     "output_type": "stream",
     "text": [
      "B\n"
     ]
    },
    {
     "name": "stderr",
     "output_type": "stream",
     "text": [
      " 24%|██▍       | 12/50 [00:04<00:14,  2.57it/s]"
     ]
    },
    {
     "name": "stdout",
     "output_type": "stream",
     "text": [
      "C\n"
     ]
    },
    {
     "name": "stderr",
     "output_type": "stream",
     "text": [
      " 26%|██▌       | 13/50 [00:05<00:14,  2.54it/s]"
     ]
    },
    {
     "name": "stdout",
     "output_type": "stream",
     "text": [
      "A\n"
     ]
    },
    {
     "name": "stderr",
     "output_type": "stream",
     "text": [
      " 28%|██▊       | 14/50 [00:05<00:13,  2.70it/s]"
     ]
    },
    {
     "name": "stdout",
     "output_type": "stream",
     "text": [
      "B\n"
     ]
    },
    {
     "name": "stderr",
     "output_type": "stream",
     "text": [
      " 30%|███       | 15/50 [00:06<00:12,  2.74it/s]"
     ]
    },
    {
     "name": "stdout",
     "output_type": "stream",
     "text": [
      "B\n"
     ]
    },
    {
     "name": "stderr",
     "output_type": "stream",
     "text": [
      " 32%|███▏      | 16/50 [00:06<00:12,  2.71it/s]"
     ]
    },
    {
     "name": "stdout",
     "output_type": "stream",
     "text": [
      "A\n"
     ]
    },
    {
     "name": "stderr",
     "output_type": "stream",
     "text": [
      " 34%|███▍      | 17/50 [00:06<00:11,  2.76it/s]"
     ]
    },
    {
     "name": "stdout",
     "output_type": "stream",
     "text": [
      "A\n"
     ]
    },
    {
     "name": "stderr",
     "output_type": "stream",
     "text": [
      " 36%|███▌      | 18/50 [00:07<00:11,  2.75it/s]"
     ]
    },
    {
     "name": "stdout",
     "output_type": "stream",
     "text": [
      "C\n"
     ]
    },
    {
     "name": "stderr",
     "output_type": "stream",
     "text": [
      " 38%|███▊      | 19/50 [00:07<00:12,  2.54it/s]"
     ]
    },
    {
     "name": "stdout",
     "output_type": "stream",
     "text": [
      "C\n"
     ]
    },
    {
     "name": "stderr",
     "output_type": "stream",
     "text": [
      " 40%|████      | 20/50 [00:07<00:11,  2.59it/s]"
     ]
    },
    {
     "name": "stdout",
     "output_type": "stream",
     "text": [
      "Invalid\n",
      "Not found in That is not a valid multiple choice question.\n",
      "<answer>Invalid</answer>\n",
      "Not found in That's not a valid question, so there's no valid answer.\n",
      "        \n",
      "        <answer>Invalid</answer>\n",
      "Not found in There is no correct answer provided in the prompt. I am unable to choose a letter. <answer>Invalid</answer>\n",
      "\n",
      "Not found in There is no valid answer to parse as the prompt is \"Invalid\". I cannot provide a letter choice.\n",
      "\n"
     ]
    },
    {
     "name": "stderr",
     "output_type": "stream",
     "text": [
      " 42%|████▏     | 21/50 [00:15<01:13,  2.54s/it]"
     ]
    },
    {
     "name": "stdout",
     "output_type": "stream",
     "text": [
      "Not found in There is no valid answer provided in the prompt. Therefore, I cannot select a letter choice. <answer></answer>\n",
      "\n",
      "B\n"
     ]
    },
    {
     "name": "stderr",
     "output_type": "stream",
     "text": [
      " 44%|████▍     | 22/50 [00:15<00:52,  1.87s/it]"
     ]
    },
    {
     "name": "stdout",
     "output_type": "stream",
     "text": [
      "A\n"
     ]
    },
    {
     "name": "stderr",
     "output_type": "stream",
     "text": [
      " 46%|████▌     | 23/50 [00:16<00:39,  1.45s/it]"
     ]
    },
    {
     "name": "stdout",
     "output_type": "stream",
     "text": [
      "A\n"
     ]
    },
    {
     "name": "stderr",
     "output_type": "stream",
     "text": [
      " 48%|████▊     | 24/50 [00:16<00:30,  1.16s/it]"
     ]
    },
    {
     "name": "stdout",
     "output_type": "stream",
     "text": [
      "B\n"
     ]
    },
    {
     "name": "stderr",
     "output_type": "stream",
     "text": [
      " 50%|█████     | 25/50 [00:17<00:22,  1.10it/s]"
     ]
    },
    {
     "name": "stdout",
     "output_type": "stream",
     "text": [
      "A\n"
     ]
    },
    {
     "name": "stderr",
     "output_type": "stream",
     "text": [
      " 52%|█████▏    | 26/50 [00:17<00:17,  1.33it/s]"
     ]
    },
    {
     "name": "stdout",
     "output_type": "stream",
     "text": [
      "C\n"
     ]
    },
    {
     "name": "stderr",
     "output_type": "stream",
     "text": [
      " 54%|█████▍    | 27/50 [00:17<00:14,  1.54it/s]"
     ]
    },
    {
     "name": "stdout",
     "output_type": "stream",
     "text": [
      "A\n"
     ]
    },
    {
     "name": "stderr",
     "output_type": "stream",
     "text": [
      " 56%|█████▌    | 28/50 [00:18<00:13,  1.69it/s]"
     ]
    },
    {
     "name": "stdout",
     "output_type": "stream",
     "text": [
      "B\n"
     ]
    },
    {
     "name": "stderr",
     "output_type": "stream",
     "text": [
      " 58%|█████▊    | 29/50 [00:18<00:10,  1.94it/s]"
     ]
    },
    {
     "name": "stdout",
     "output_type": "stream",
     "text": [
      "B\n"
     ]
    },
    {
     "name": "stderr",
     "output_type": "stream",
     "text": [
      " 60%|██████    | 30/50 [00:19<00:09,  2.07it/s]"
     ]
    },
    {
     "name": "stdout",
     "output_type": "stream",
     "text": [
      "C\n"
     ]
    },
    {
     "name": "stderr",
     "output_type": "stream",
     "text": [
      " 62%|██████▏   | 31/50 [00:19<00:08,  2.26it/s]"
     ]
    },
    {
     "name": "stdout",
     "output_type": "stream",
     "text": [
      "B\n"
     ]
    },
    {
     "name": "stderr",
     "output_type": "stream",
     "text": [
      " 64%|██████▍   | 32/50 [00:19<00:07,  2.35it/s]"
     ]
    },
    {
     "name": "stdout",
     "output_type": "stream",
     "text": [
      "A\n"
     ]
    },
    {
     "name": "stderr",
     "output_type": "stream",
     "text": [
      " 66%|██████▌   | 33/50 [00:20<00:07,  2.34it/s]"
     ]
    },
    {
     "name": "stdout",
     "output_type": "stream",
     "text": [
      "B\n"
     ]
    },
    {
     "name": "stderr",
     "output_type": "stream",
     "text": [
      " 68%|██████▊   | 34/50 [00:20<00:06,  2.49it/s]"
     ]
    },
    {
     "name": "stdout",
     "output_type": "stream",
     "text": [
      "C\n"
     ]
    },
    {
     "name": "stderr",
     "output_type": "stream",
     "text": [
      " 70%|███████   | 35/50 [00:21<00:06,  2.35it/s]"
     ]
    },
    {
     "name": "stdout",
     "output_type": "stream",
     "text": [
      "D\n"
     ]
    },
    {
     "name": "stderr",
     "output_type": "stream",
     "text": [
      " 72%|███████▏  | 36/50 [00:21<00:05,  2.43it/s]"
     ]
    },
    {
     "name": "stdout",
     "output_type": "stream",
     "text": [
      "C\n"
     ]
    },
    {
     "name": "stderr",
     "output_type": "stream",
     "text": [
      " 74%|███████▍  | 37/50 [00:21<00:05,  2.54it/s]"
     ]
    },
    {
     "name": "stdout",
     "output_type": "stream",
     "text": [
      "D\n"
     ]
    },
    {
     "name": "stderr",
     "output_type": "stream",
     "text": [
      " 76%|███████▌  | 38/50 [00:22<00:04,  2.53it/s]"
     ]
    },
    {
     "name": "stdout",
     "output_type": "stream",
     "text": [
      "A\n"
     ]
    },
    {
     "name": "stderr",
     "output_type": "stream",
     "text": [
      " 78%|███████▊  | 39/50 [00:22<00:04,  2.72it/s]"
     ]
    },
    {
     "name": "stdout",
     "output_type": "stream",
     "text": [
      "B\n"
     ]
    },
    {
     "name": "stderr",
     "output_type": "stream",
     "text": [
      " 80%|████████  | 40/50 [00:22<00:03,  2.69it/s]"
     ]
    },
    {
     "name": "stdout",
     "output_type": "stream",
     "text": [
      "B\n"
     ]
    },
    {
     "name": "stderr",
     "output_type": "stream",
     "text": [
      " 82%|████████▏ | 41/50 [00:23<00:03,  2.64it/s]"
     ]
    },
    {
     "name": "stdout",
     "output_type": "stream",
     "text": [
      "B\n"
     ]
    },
    {
     "name": "stderr",
     "output_type": "stream",
     "text": [
      " 84%|████████▍ | 42/50 [00:23<00:02,  2.69it/s]"
     ]
    },
    {
     "name": "stdout",
     "output_type": "stream",
     "text": [
      "A\n"
     ]
    },
    {
     "name": "stderr",
     "output_type": "stream",
     "text": [
      " 86%|████████▌ | 43/50 [00:24<00:02,  2.76it/s]"
     ]
    },
    {
     "name": "stdout",
     "output_type": "stream",
     "text": [
      "B\n"
     ]
    },
    {
     "name": "stderr",
     "output_type": "stream",
     "text": [
      " 88%|████████▊ | 44/50 [00:24<00:02,  2.85it/s]"
     ]
    },
    {
     "name": "stdout",
     "output_type": "stream",
     "text": [
      "C\n"
     ]
    },
    {
     "name": "stderr",
     "output_type": "stream",
     "text": [
      " 90%|█████████ | 45/50 [00:24<00:01,  2.66it/s]"
     ]
    },
    {
     "name": "stdout",
     "output_type": "stream",
     "text": [
      "A\n"
     ]
    },
    {
     "name": "stderr",
     "output_type": "stream",
     "text": [
      " 92%|█████████▏| 46/50 [00:25<00:01,  2.60it/s]"
     ]
    },
    {
     "name": "stdout",
     "output_type": "stream",
     "text": [
      "C\n"
     ]
    },
    {
     "name": "stderr",
     "output_type": "stream",
     "text": [
      " 94%|█████████▍| 47/50 [00:25<00:01,  2.67it/s]"
     ]
    },
    {
     "name": "stdout",
     "output_type": "stream",
     "text": [
      "B\n"
     ]
    },
    {
     "name": "stderr",
     "output_type": "stream",
     "text": [
      " 96%|█████████▌| 48/50 [00:25<00:00,  2.72it/s]"
     ]
    },
    {
     "name": "stdout",
     "output_type": "stream",
     "text": [
      "B\n"
     ]
    },
    {
     "name": "stderr",
     "output_type": "stream",
     "text": [
      " 98%|█████████▊| 49/50 [00:26<00:00,  2.71it/s]"
     ]
    },
    {
     "name": "stdout",
     "output_type": "stream",
     "text": [
      "A\n"
     ]
    },
    {
     "name": "stderr",
     "output_type": "stream",
     "text": [
      "100%|██████████| 50/50 [00:26<00:00,  1.88it/s]"
     ]
    },
    {
     "name": "stdout",
     "output_type": "stream",
     "text": [
      "['A', 'B', 'C', 'A', 'A', 'B', 'A', 'A', 'A', 'C', 'C', 'B', 'C', 'A', 'B', 'B', 'A', 'A', 'C', 'C', 'NOT FOUND', 'B', 'A', 'A', 'B', 'A', 'C', 'A', 'B', 'B', 'C', 'B', 'A', 'B', 'C', 'D', 'C', 'D', 'A', 'B', 'B', 'B', 'A', 'B', 'C', 'A', 'C', 'B', 'B', 'A']\n"
     ]
    },
    {
     "name": "stderr",
     "output_type": "stream",
     "text": [
      "\n"
     ]
    }
   ],
   "source": [
    "letter_answers = []\n",
    "\n",
    "for idx in trange(len(questions['reasoning'])):\n",
    "    cur = questions['reasoning'][idx]\n",
    "    print(cur)\n",
    "    letter_answers.append(extract_answer(cur))\n",
    "\n",
    "print(letter_answers)"
   ]
  },
  {
   "cell_type": "code",
   "execution_count": null,
   "metadata": {},
   "outputs": [],
   "source": [
    "dataframe_A, dataframe_B = [], []\n",
    "\n",
    "idx = 1\n",
    "while idx <= 251:\n",
    "    dataframe_A.append(idx)\n",
    "    if idx-1 < len(letter_answers):\n",
    "        dataframe_B.append(letter_answers[idx-1])\n",
    "    else:\n",
    "        dataframe_B.append('A')\n",
    "    idx += 1"
   ]
  },
  {
   "cell_type": "code",
   "execution_count": null,
   "metadata": {},
   "outputs": [],
   "source": [
    "answers = pd.DataFrame({'id': dataframe_A, 'answer': dataframe_B})\n"
   ]
  },
  {
   "cell_type": "code",
   "execution_count": null,
   "metadata": {},
   "outputs": [
    {
     "data": {
      "text/html": [
       "<div>\n",
       "<style scoped>\n",
       "    .dataframe tbody tr th:only-of-type {\n",
       "        vertical-align: middle;\n",
       "    }\n",
       "\n",
       "    .dataframe tbody tr th {\n",
       "        vertical-align: top;\n",
       "    }\n",
       "\n",
       "    .dataframe thead th {\n",
       "        text-align: right;\n",
       "    }\n",
       "</style>\n",
       "<table border=\"1\" class=\"dataframe\">\n",
       "  <thead>\n",
       "    <tr style=\"text-align: right;\">\n",
       "      <th></th>\n",
       "      <th>id</th>\n",
       "      <th>answer</th>\n",
       "    </tr>\n",
       "  </thead>\n",
       "  <tbody>\n",
       "    <tr>\n",
       "      <th>0</th>\n",
       "      <td>1</td>\n",
       "      <td>A</td>\n",
       "    </tr>\n",
       "    <tr>\n",
       "      <th>1</th>\n",
       "      <td>2</td>\n",
       "      <td>B</td>\n",
       "    </tr>\n",
       "    <tr>\n",
       "      <th>2</th>\n",
       "      <td>3</td>\n",
       "      <td>C</td>\n",
       "    </tr>\n",
       "    <tr>\n",
       "      <th>3</th>\n",
       "      <td>4</td>\n",
       "      <td>A</td>\n",
       "    </tr>\n",
       "    <tr>\n",
       "      <th>4</th>\n",
       "      <td>5</td>\n",
       "      <td>A</td>\n",
       "    </tr>\n",
       "  </tbody>\n",
       "</table>\n",
       "</div>"
      ],
      "text/plain": [
       "   id answer\n",
       "0   1      A\n",
       "1   2      B\n",
       "2   3      C\n",
       "3   4      A\n",
       "4   5      A"
      ]
     },
     "execution_count": 35,
     "metadata": {},
     "output_type": "execute_result"
    }
   ],
   "source": [
    "answers.to_csv('baseline_answers.csv', index=False)\n",
    "answers.head()"
   ]
  },
  {
   "cell_type": "code",
   "execution_count": null,
   "metadata": {},
   "outputs": [],
   "source": []
  }
 ],
 "metadata": {
  "kernelspec": {
   "display_name": "Python 3",
   "language": "python",
   "name": "python3"
  },
  "language_info": {
   "codemirror_mode": {
    "name": "ipython",
    "version": 3
   },
   "file_extension": ".py",
   "mimetype": "text/x-python",
   "name": "python",
   "nbconvert_exporter": "python",
   "pygments_lexer": "ipython3",
   "version": "3.11.10"
  }
 },
 "nbformat": 4,
 "nbformat_minor": 2
}
